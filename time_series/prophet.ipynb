{
 "cells": [
  {
   "cell_type": "code",
   "execution_count": 1,
   "id": "551c311d-edb7-42c4-be07-aa97b562a21e",
   "metadata": {},
   "outputs": [
    {
     "ename": "ModuleNotFoundError",
     "evalue": "No module named 'fbprophet'",
     "output_type": "error",
     "traceback": [
      "\u001b[0;31m---------------------------------------------------------------------------\u001b[0m",
      "\u001b[0;31mModuleNotFoundError\u001b[0m                       Traceback (most recent call last)",
      "Cell \u001b[0;32mIn[1], line 1\u001b[0m\n\u001b[0;32m----> 1\u001b[0m \u001b[38;5;28;01mfrom\u001b[39;00m \u001b[38;5;21;01mfbprophet\u001b[39;00m \u001b[38;5;28;01mimport\u001b[39;00m Prophet\n\u001b[1;32m      2\u001b[0m \u001b[38;5;28;01mimport\u001b[39;00m \u001b[38;5;21;01mpandas\u001b[39;00m \u001b[38;5;28;01mas\u001b[39;00m \u001b[38;5;21;01mpd\u001b[39;00m\n\u001b[1;32m      4\u001b[0m \u001b[38;5;66;03m# Загрузка и подготовка данных\u001b[39;00m\n",
      "\u001b[0;31mModuleNotFoundError\u001b[0m: No module named 'fbprophet'"
     ]
    }
   ],
   "source": [
    "from prophet import Prophet\n",
    "import pandas as pd\n",
    "\n",
    "# Загрузка и подготовка данных\n",
    "data = pd.read_csv('daily-min-temperatures.csv')\n",
    "data['ds'] = pd.to_datetime(data['Date'])\n",
    "data = data.rename(columns={'Value': 'y'})\n",
    "\n",
    "# Создание и обучение модели\n",
    "model = Prophet()\n",
    "model.fit(data)\n",
    "\n",
    "# Создание будущего DataFrame для прогнозирования\n",
    "future = model.make_future_dataframe(periods=365)\n",
    "\n",
    "# Прогнозирование\n",
    "forecast = model.predict(future)\n",
    "\n",
    "# Визуализация прогноза\n",
    "fig1 = model.plot(forecast)\n",
    "\n",
    "# Визуализация компонентов модели\n",
    "fig2 = model.plot_components(forecast)\n"
   ]
  },
  {
   "cell_type": "code",
   "execution_count": null,
   "id": "e8aa1415-da33-4afb-a23c-31fddf1942be",
   "metadata": {},
   "outputs": [],
   "source": []
  }
 ],
 "metadata": {
  "kernelspec": {
   "display_name": "Python 3 (ipykernel)",
   "language": "python",
   "name": "python3"
  },
  "language_info": {
   "codemirror_mode": {
    "name": "ipython",
    "version": 3
   },
   "file_extension": ".py",
   "mimetype": "text/x-python",
   "name": "python",
   "nbconvert_exporter": "python",
   "pygments_lexer": "ipython3",
   "version": "3.11.4"
  }
 },
 "nbformat": 4,
 "nbformat_minor": 5
}
