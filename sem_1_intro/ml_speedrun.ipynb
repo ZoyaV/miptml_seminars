{
 "cells": [
  {
   "cell_type": "code",
   "execution_count": 2,
   "id": "07f8a30e",
   "metadata": {},
   "outputs": [],
   "source": [
    "#!pip install rs_datasets"
   ]
  },
  {
   "cell_type": "markdown",
   "id": "56684dad",
   "metadata": {},
   "source": [
    "# Задача - Построить рекомендательную систему\n",
    "\n",
    "##### На основе известных оценок фильмам от пользователей, научиться предсказывать другие фильмы, которые могут быть им интересны."
   ]
  },
  {
   "cell_type": "code",
   "execution_count": 115,
   "id": "a6fae734",
   "metadata": {},
   "outputs": [],
   "source": [
    "import matplotlib.pyplot as plt\n",
    "import numpy as np\n",
    "import pandas as pd"
   ]
  },
  {
   "cell_type": "markdown",
   "id": "740f0adf",
   "metadata": {},
   "source": [
    "Подгружаем данные - MovieLens "
   ]
  },
  {
   "cell_type": "code",
   "execution_count": 116,
   "id": "2bea0013",
   "metadata": {},
   "outputs": [
    {
     "name": "stdout",
     "output_type": "stream",
     "text": [
      "ratings\n"
     ]
    },
    {
     "data": {
      "text/html": [
       "<div>\n",
       "<style scoped>\n",
       "    .dataframe tbody tr th:only-of-type {\n",
       "        vertical-align: middle;\n",
       "    }\n",
       "\n",
       "    .dataframe tbody tr th {\n",
       "        vertical-align: top;\n",
       "    }\n",
       "\n",
       "    .dataframe thead th {\n",
       "        text-align: right;\n",
       "    }\n",
       "</style>\n",
       "<table border=\"1\" class=\"dataframe\">\n",
       "  <thead>\n",
       "    <tr style=\"text-align: right;\">\n",
       "      <th></th>\n",
       "      <th>user_id</th>\n",
       "      <th>item_id</th>\n",
       "      <th>rating</th>\n",
       "      <th>timestamp</th>\n",
       "    </tr>\n",
       "  </thead>\n",
       "  <tbody>\n",
       "    <tr>\n",
       "      <th>0</th>\n",
       "      <td>196</td>\n",
       "      <td>242</td>\n",
       "      <td>3</td>\n",
       "      <td>881250949</td>\n",
       "    </tr>\n",
       "    <tr>\n",
       "      <th>1</th>\n",
       "      <td>186</td>\n",
       "      <td>302</td>\n",
       "      <td>3</td>\n",
       "      <td>891717742</td>\n",
       "    </tr>\n",
       "    <tr>\n",
       "      <th>2</th>\n",
       "      <td>22</td>\n",
       "      <td>377</td>\n",
       "      <td>1</td>\n",
       "      <td>878887116</td>\n",
       "    </tr>\n",
       "  </tbody>\n",
       "</table>\n",
       "</div>"
      ],
      "text/plain": [
       "   user_id  item_id  rating  timestamp\n",
       "0      196      242       3  881250949\n",
       "1      186      302       3  891717742\n",
       "2       22      377       1  878887116"
      ]
     },
     "metadata": {},
     "output_type": "display_data"
    },
    {
     "name": "stdout",
     "output_type": "stream",
     "text": [
      "\n",
      "users\n"
     ]
    },
    {
     "data": {
      "text/html": [
       "<div>\n",
       "<style scoped>\n",
       "    .dataframe tbody tr th:only-of-type {\n",
       "        vertical-align: middle;\n",
       "    }\n",
       "\n",
       "    .dataframe tbody tr th {\n",
       "        vertical-align: top;\n",
       "    }\n",
       "\n",
       "    .dataframe thead th {\n",
       "        text-align: right;\n",
       "    }\n",
       "</style>\n",
       "<table border=\"1\" class=\"dataframe\">\n",
       "  <thead>\n",
       "    <tr style=\"text-align: right;\">\n",
       "      <th></th>\n",
       "      <th>user_id</th>\n",
       "      <th>gender</th>\n",
       "      <th>age</th>\n",
       "      <th>occupation</th>\n",
       "      <th>zip_code</th>\n",
       "    </tr>\n",
       "  </thead>\n",
       "  <tbody>\n",
       "    <tr>\n",
       "      <th>0</th>\n",
       "      <td>1</td>\n",
       "      <td>24</td>\n",
       "      <td>M</td>\n",
       "      <td>technician</td>\n",
       "      <td>85711</td>\n",
       "    </tr>\n",
       "    <tr>\n",
       "      <th>1</th>\n",
       "      <td>2</td>\n",
       "      <td>53</td>\n",
       "      <td>F</td>\n",
       "      <td>other</td>\n",
       "      <td>94043</td>\n",
       "    </tr>\n",
       "    <tr>\n",
       "      <th>2</th>\n",
       "      <td>3</td>\n",
       "      <td>23</td>\n",
       "      <td>M</td>\n",
       "      <td>writer</td>\n",
       "      <td>32067</td>\n",
       "    </tr>\n",
       "  </tbody>\n",
       "</table>\n",
       "</div>"
      ],
      "text/plain": [
       "   user_id  gender age  occupation zip_code\n",
       "0        1      24   M  technician    85711\n",
       "1        2      53   F       other    94043\n",
       "2        3      23   M      writer    32067"
      ]
     },
     "metadata": {},
     "output_type": "display_data"
    },
    {
     "name": "stdout",
     "output_type": "stream",
     "text": [
      "\n",
      "items\n"
     ]
    },
    {
     "data": {
      "text/html": [
       "<div>\n",
       "<style scoped>\n",
       "    .dataframe tbody tr th:only-of-type {\n",
       "        vertical-align: middle;\n",
       "    }\n",
       "\n",
       "    .dataframe tbody tr th {\n",
       "        vertical-align: top;\n",
       "    }\n",
       "\n",
       "    .dataframe thead th {\n",
       "        text-align: right;\n",
       "    }\n",
       "</style>\n",
       "<table border=\"1\" class=\"dataframe\">\n",
       "  <thead>\n",
       "    <tr style=\"text-align: right;\">\n",
       "      <th></th>\n",
       "      <th>item_id</th>\n",
       "      <th>title</th>\n",
       "      <th>release_date</th>\n",
       "      <th>imdb_url</th>\n",
       "      <th>unknown</th>\n",
       "      <th>Action</th>\n",
       "      <th>Adventure</th>\n",
       "      <th>Animation</th>\n",
       "      <th>Children's</th>\n",
       "      <th>Comedy</th>\n",
       "      <th>...</th>\n",
       "      <th>Fantasy</th>\n",
       "      <th>Film-Noir</th>\n",
       "      <th>Horror</th>\n",
       "      <th>Musical</th>\n",
       "      <th>Mystery</th>\n",
       "      <th>Romance</th>\n",
       "      <th>Sci-Fi</th>\n",
       "      <th>Thriller</th>\n",
       "      <th>War</th>\n",
       "      <th>Western</th>\n",
       "    </tr>\n",
       "  </thead>\n",
       "  <tbody>\n",
       "    <tr>\n",
       "      <th>0</th>\n",
       "      <td>1</td>\n",
       "      <td>Toy Story (1995)</td>\n",
       "      <td>01-Jan-1995</td>\n",
       "      <td>http://us.imdb.com/M/title-exact?Toy%20Story%2...</td>\n",
       "      <td>False</td>\n",
       "      <td>False</td>\n",
       "      <td>False</td>\n",
       "      <td>True</td>\n",
       "      <td>True</td>\n",
       "      <td>True</td>\n",
       "      <td>...</td>\n",
       "      <td>False</td>\n",
       "      <td>False</td>\n",
       "      <td>False</td>\n",
       "      <td>False</td>\n",
       "      <td>False</td>\n",
       "      <td>False</td>\n",
       "      <td>False</td>\n",
       "      <td>False</td>\n",
       "      <td>False</td>\n",
       "      <td>False</td>\n",
       "    </tr>\n",
       "    <tr>\n",
       "      <th>1</th>\n",
       "      <td>2</td>\n",
       "      <td>GoldenEye (1995)</td>\n",
       "      <td>01-Jan-1995</td>\n",
       "      <td>http://us.imdb.com/M/title-exact?GoldenEye%20(...</td>\n",
       "      <td>False</td>\n",
       "      <td>True</td>\n",
       "      <td>True</td>\n",
       "      <td>False</td>\n",
       "      <td>False</td>\n",
       "      <td>False</td>\n",
       "      <td>...</td>\n",
       "      <td>False</td>\n",
       "      <td>False</td>\n",
       "      <td>False</td>\n",
       "      <td>False</td>\n",
       "      <td>False</td>\n",
       "      <td>False</td>\n",
       "      <td>False</td>\n",
       "      <td>True</td>\n",
       "      <td>False</td>\n",
       "      <td>False</td>\n",
       "    </tr>\n",
       "    <tr>\n",
       "      <th>2</th>\n",
       "      <td>3</td>\n",
       "      <td>Four Rooms (1995)</td>\n",
       "      <td>01-Jan-1995</td>\n",
       "      <td>http://us.imdb.com/M/title-exact?Four%20Rooms%...</td>\n",
       "      <td>False</td>\n",
       "      <td>False</td>\n",
       "      <td>False</td>\n",
       "      <td>False</td>\n",
       "      <td>False</td>\n",
       "      <td>False</td>\n",
       "      <td>...</td>\n",
       "      <td>False</td>\n",
       "      <td>False</td>\n",
       "      <td>False</td>\n",
       "      <td>False</td>\n",
       "      <td>False</td>\n",
       "      <td>False</td>\n",
       "      <td>False</td>\n",
       "      <td>True</td>\n",
       "      <td>False</td>\n",
       "      <td>False</td>\n",
       "    </tr>\n",
       "  </tbody>\n",
       "</table>\n",
       "<p>3 rows × 23 columns</p>\n",
       "</div>"
      ],
      "text/plain": [
       "   item_id              title release_date  \\\n",
       "0        1   Toy Story (1995)  01-Jan-1995   \n",
       "1        2   GoldenEye (1995)  01-Jan-1995   \n",
       "2        3  Four Rooms (1995)  01-Jan-1995   \n",
       "\n",
       "                                            imdb_url  unknown  Action  \\\n",
       "0  http://us.imdb.com/M/title-exact?Toy%20Story%2...    False   False   \n",
       "1  http://us.imdb.com/M/title-exact?GoldenEye%20(...    False    True   \n",
       "2  http://us.imdb.com/M/title-exact?Four%20Rooms%...    False   False   \n",
       "\n",
       "   Adventure  Animation  Children's  Comedy  ...  Fantasy  Film-Noir  Horror  \\\n",
       "0      False       True        True    True  ...    False      False   False   \n",
       "1       True      False       False   False  ...    False      False   False   \n",
       "2      False      False       False   False  ...    False      False   False   \n",
       "\n",
       "   Musical  Mystery  Romance  Sci-Fi  Thriller    War  Western  \n",
       "0    False    False    False   False     False  False    False  \n",
       "1    False    False    False   False      True  False    False  \n",
       "2    False    False    False   False      True  False    False  \n",
       "\n",
       "[3 rows x 23 columns]"
      ]
     },
     "metadata": {},
     "output_type": "display_data"
    },
    {
     "name": "stdout",
     "output_type": "stream",
     "text": [
      "\n",
      "None\n",
      "<class 'pandas.core.frame.DataFrame'>\n"
     ]
    }
   ],
   "source": [
    "from rs_datasets import MovieLens\n",
    "ds = MovieLens(version='100k')\n",
    "df = ds.ratings\n",
    "\n",
    "print(ds.info())\n",
    "print(type(df))"
   ]
  },
  {
   "cell_type": "markdown",
   "id": "5d935c17",
   "metadata": {},
   "source": [
    "* user_id - уникальный номер пользователя\n",
    "* item_id - уникальный номер видеоряда\n",
    "* rating - оценка которую пользователь дал пользователь видеоряду\n",
    "* timestamp - время взаимодействия пользователя и сервиса"
   ]
  },
  {
   "cell_type": "markdown",
   "id": "726a5cff",
   "metadata": {},
   "source": [
    "### Этапы работы:\n",
    "\n",
    "- Сформировать обучающую выборку; \n",
    "- Построить рекомендатор;\n",
    "- Проанализировать результаты;"
   ]
  },
  {
   "cell_type": "markdown",
   "id": "c08323ce",
   "metadata": {},
   "source": [
    "## Формирование обучающей выборки"
   ]
  },
  {
   "cell_type": "markdown",
   "id": "2966d009",
   "metadata": {},
   "source": [
    "* Анализ данных - смотрим максиму, минимумы, убираем Nan;\n",
    "* Смотрим распределение айтемов и пользователей;\n",
    "* Убираем пользователей с маленькой историей;\n",
    "* Переиндексируем user_id, item_id;"
   ]
  },
  {
   "cell_type": "code",
   "execution_count": 117,
   "id": "0eac9d0d",
   "metadata": {},
   "outputs": [
    {
     "data": {
      "text/plain": [
       "user_id            943\n",
       "item_id           1682\n",
       "rating               5\n",
       "timestamp    893286638\n",
       "dtype: int32"
      ]
     },
     "execution_count": 117,
     "metadata": {},
     "output_type": "execute_result"
    }
   ],
   "source": [
    "df.max()"
   ]
  },
  {
   "cell_type": "code",
   "execution_count": 118,
   "id": "e70a50c8",
   "metadata": {},
   "outputs": [
    {
     "data": {
      "text/plain": [
       "user_id              1\n",
       "item_id              1\n",
       "rating               1\n",
       "timestamp    874724710\n",
       "dtype: int32"
      ]
     },
     "execution_count": 118,
     "metadata": {},
     "output_type": "execute_result"
    }
   ],
   "source": [
    "df.min()"
   ]
  },
  {
   "cell_type": "code",
   "execution_count": 119,
   "id": "cab55af0",
   "metadata": {},
   "outputs": [],
   "source": [
    "# Смотрим распределение айтемов и пользователей\n",
    "def plot_interactions_histogram(data_frame):\n",
    "    data_frame.groupby('user_id').size().hist(bins=50)\n",
    "    plt.title('Histogram of interactions per user')\n",
    "    plt.xlabel('Number of interactions')\n",
    "    plt.ylabel('Number of movies')\n",
    "    plt.show()"
   ]
  },
  {
   "cell_type": "code",
   "execution_count": 120,
   "id": "0eb8b0fa",
   "metadata": {},
   "outputs": [
    {
     "data": {
      "image/png": "[encoded data removed]",
      "text/plain": [
       "<Figure size 640x480 with 1 Axes>"
      ]
     },
     "metadata": {},
     "output_type": "display_data"
    }
   ],
   "source": [
    "plot_interactions_histogram(df)"
   ]
  },
  {
   "cell_type": "markdown",
   "id": "95476768",
   "metadata": {},
   "source": [
    "### Что говорит диаграмма?"
   ]
  },
  {
   "cell_type": "markdown",
   "id": "4e7ebaea",
   "metadata": {},
   "source": [
    "- Много пользователей, у которах история меньше 50 фильмов (Это много или мало?);\n",
    "\n"
   ]
  },
  {
   "cell_type": "code",
   "execution_count": 121,
   "id": "07f79a18",
   "metadata": {},
   "outputs": [],
   "source": [
    "# Группируем по userId и фильтруем\n",
    "filtered_users = df.groupby('user_id').filter(lambda x: len(x) >= 100)[:10000]"
   ]
  },
  {
   "cell_type": "code",
   "execution_count": 122,
   "id": "98bc28f8",
   "metadata": {},
   "outputs": [
    {
     "data": {
      "image/png": "[encoded data removed]",
      "text/plain": [
       "<Figure size 640x480 with 1 Axes>"
      ]
     },
     "metadata": {},
     "output_type": "display_data"
    }
   ],
   "source": [
    "plot_interactions_histogram(filtered_users)"
   ]
  },
  {
   "cell_type": "code",
   "execution_count": 123,
   "id": "729c546b",
   "metadata": {},
   "outputs": [
    {
     "data": {
      "text/plain": [
       "array([  1,   5,   6,   7,  10,  11,  13,  15,  16,  18,  21,  22,  23,\n",
       "        26,  38,  42,  43,  44,  49,  56,  57,  58,  59,  60,  62,  64,\n",
       "        70,  72,  82,  83,  85,  87,  90,  92,  94,  95,  99, 102, 104,\n",
       "       109, 110, 116, 119, 125, 128, 130, 141, 144, 145, 151, 152, 158,\n",
       "       159, 160, 174, 177, 178, 181, 184, 188, 189, 193, 194, 197, 198,\n",
       "       200, 201, 207, 210, 213, 214, 216, 221, 222, 223, 224, 230, 233,\n",
       "       234, 236, 239, 244, 246, 249, 250, 254, 256, 262, 263, 264, 267,\n",
       "       268, 269, 270, 271, 276, 279, 280, 286, 290, 291, 292, 293, 294,\n",
       "       295, 296, 297, 298, 299, 301, 303, 305, 307, 308, 311, 312, 313,\n",
       "       314, 318, 320, 321, 325, 326, 327, 328, 330, 332, 334, 336, 339,\n",
       "       342, 343, 344, 345, 346, 347, 354, 360, 361, 363, 373, 374, 378,\n",
       "       379, 380, 381, 385, 387, 389, 391, 392, 393, 394, 397, 398, 399,\n",
       "       401, 405, 406, 407, 409], dtype=int32)"
      ]
     },
     "execution_count": 123,
     "metadata": {},
     "output_type": "execute_result"
    }
   ],
   "source": [
    "np.unique(filtered_users.user_id.values)"
   ]
  },
  {
   "cell_type": "code",
   "execution_count": 124,
   "id": "c5bcb75a",
   "metadata": {},
   "outputs": [
    {
     "data": {
      "text/plain": [
       "array([   1,    2,    3, ..., 1543, 1578, 1582], dtype=int32)"
      ]
     },
     "execution_count": 124,
     "metadata": {},
     "output_type": "execute_result"
    }
   ],
   "source": [
    "np.unique(filtered_users.item_id.values)"
   ]
  },
  {
   "cell_type": "markdown",
   "id": "dc60e1fe",
   "metadata": {},
   "source": [
    "### Переиндексуем пользователей и видео"
   ]
  },
  {
   "cell_type": "code",
   "execution_count": 125,
   "id": "67710dd6",
   "metadata": {},
   "outputs": [],
   "source": [
    "# Переиндексация колонки\n",
    "filtered_users['user_id'] = filtered_users['user_id'].rank(method='dense').astype(int)\n",
    "# Переиндексация колонки\n",
    "filtered_users['item_id'] = filtered_users['item_id'].rank(method='dense').astype(int)"
   ]
  },
  {
   "cell_type": "code",
   "execution_count": 126,
   "id": "e1bd79b6",
   "metadata": {},
   "outputs": [
    {
     "data": {
      "text/plain": [
       "array([  1,   2,   3,   4,   5,   6,   7,   8,   9,  10,  11,  12,  13,\n",
       "        14,  15,  16,  17,  18,  19,  20,  21,  22,  23,  24,  25,  26,\n",
       "        27,  28,  29,  30,  31,  32,  33,  34,  35,  36,  37,  38,  39,\n",
       "        40,  41,  42,  43,  44,  45,  46,  47,  48,  49,  50,  51,  52,\n",
       "        53,  54,  55,  56,  57,  58,  59,  60,  61,  62,  63,  64,  65,\n",
       "        66,  67,  68,  69,  70,  71,  72,  73,  74,  75,  76,  77,  78,\n",
       "        79,  80,  81,  82,  83,  84,  85,  86,  87,  88,  89,  90,  91,\n",
       "        92,  93,  94,  95,  96,  97,  98,  99, 100, 101, 102, 103, 104,\n",
       "       105, 106, 107, 108, 109, 110, 111, 112, 113, 114, 115, 116, 117,\n",
       "       118, 119, 120, 121, 122, 123, 124, 125, 126, 127, 128, 129, 130,\n",
       "       131, 132, 133, 134, 135, 136, 137, 138, 139, 140, 141, 142, 143,\n",
       "       144, 145, 146, 147, 148, 149, 150, 151, 152, 153, 154, 155, 156,\n",
       "       157, 158, 159, 160, 161])"
      ]
     },
     "execution_count": 126,
     "metadata": {},
     "output_type": "execute_result"
    }
   ],
   "source": [
    "np.unique(filtered_users.user_id.values)"
   ]
  },
  {
   "cell_type": "code",
   "execution_count": 127,
   "id": "b853e882",
   "metadata": {},
   "outputs": [],
   "source": [
    "sorted_df = filtered_users.sort_values(by='timestamp')"
   ]
  },
  {
   "cell_type": "markdown",
   "id": "26558b58",
   "metadata": {},
   "source": [
    "### Разбиваем на обучающую и тестовую выборку"
   ]
  },
  {
   "cell_type": "code",
   "execution_count": 128,
   "id": "888af8ef",
   "metadata": {},
   "outputs": [],
   "source": [
    "from sklearn.model_selection import train_test_split\n",
    "\n",
    "train_df, test_df = train_test_split(sorted_df, test_size=0.2, random_state=42)"
   ]
  },
  {
   "cell_type": "markdown",
   "id": "62c97234",
   "metadata": {},
   "source": [
    "* Что не так с таким разбиением выборки? \n",
    "\n",
    "(нужно, чтобы в тестовой и тренировочной выборке были одни и те же айтемы)\n",
    "\n",
    "* Как понять что в тестовой выборке и тренировочной айтемы полностью пересекаются?"
   ]
  },
  {
   "cell_type": "code",
   "execution_count": 154,
   "id": "9813ee36",
   "metadata": {},
   "outputs": [],
   "source": [
    "# Делим уникальные item_id на обучающие и тестовые\n",
    "train_items, test_items = train_test_split(sorted_df['user_id'].unique(), test_size=0.2, random_state=42)\n",
    "\n",
    "# Извлекаем строки из исходного датафрейма на основе разделенных item_id\n",
    "train_df = sorted_df[sorted_df['user_id'].isin(train_items)]\n",
    "test_df = sorted_df[sorted_df['user_id'].isin(test_items)]\n"
   ]
  },
  {
   "cell_type": "code",
   "execution_count": 155,
   "id": "372e0f1d",
   "metadata": {},
   "outputs": [
    {
     "data": {
      "text/plain": [
       "[384,\n",
       " 1280,\n",
       " 1281,\n",
       " 1155,\n",
       " 390,\n",
       " 780,\n",
       " 145,\n",
       " 1045,\n",
       " 1048,\n",
       " 1051,\n",
       " 37,\n",
       " 429,\n",
       " 950,\n",
       " 1081,\n",
       " 1209,\n",
       " 445,\n",
       " 1217,\n",
       " 1090,\n",
       " 1092,\n",
       " 1094,\n",
       " 967,\n",
       " 1238,\n",
       " 1244,\n",
       " 1245,\n",
       " 990,\n",
       " 1246,\n",
       " 865,\n",
       " 1249,\n",
       " 1251,\n",
       " 874,\n",
       " 759,\n",
       " 1262,\n",
       " 624,\n",
       " 1136,\n",
       " 1265,\n",
       " 1015,\n",
       " 1149]"
      ]
     },
     "execution_count": 155,
     "metadata": {},
     "output_type": "execute_result"
    }
   ],
   "source": [
    "list(set(test_df.item_id) - set(train_df.item_id))"
   ]
  },
  {
   "cell_type": "code",
   "execution_count": 156,
   "id": "f3111656",
   "metadata": {},
   "outputs": [],
   "source": [
    "black_list_test = list(set(test_df.item_id) - set(train_df.item_id))\n",
    "black_list_train = list(set(train_df.item_id) - set(test_df.item_id))"
   ]
  },
  {
   "cell_type": "code",
   "execution_count": 157,
   "id": "0cdc03fe",
   "metadata": {},
   "outputs": [],
   "source": [
    "test_df = test_df.drop(test_df[test_df['item_id'].isin(black_list_test)].index)\n",
    "train_df = train_df.drop(train_df[train_df['item_id'].isin(black_list_train)].index)"
   ]
  },
  {
   "cell_type": "code",
   "execution_count": 158,
   "id": "ba3ef072",
   "metadata": {},
   "outputs": [
    {
     "name": "stdout",
     "output_type": "stream",
     "text": [
      "      user_id  item_id  rating  timestamp\n",
      "5211       43      274       5  874774575\n",
      "6300       43      841       3  874774575\n",
      "5481       43      234       5  874774956\n",
      "261        43      236       5  874775038\n",
      "4635       43      617       4  874775185\n",
      "...       ...      ...     ...        ...\n",
      "5322       61     1044       5  893266074\n",
      "8513       61      476       5  893266105\n",
      "8883       61      596       4  893266204\n",
      "2988       61       30       4  893266205\n",
      "4659       61      980       5  893266251\n",
      "\n",
      "[6673 rows x 4 columns]\n"
     ]
    }
   ],
   "source": [
    "print(train_df)"
   ]
  },
  {
   "cell_type": "markdown",
   "id": "cf6e5b2f",
   "metadata": {},
   "source": [
    "## Реализуем рекомендатор"
   ]
  },
  {
   "cell_type": "markdown",
   "id": "361f0a86",
   "metadata": {},
   "source": [
    "#### Разбор алгоритма knn"
   ]
  },
  {
   "attachments": {
    "image.png": {
     "image/png": "[encoded data removed]"
    }
   },
   "cell_type": "markdown",
   "id": "94c5e002",
   "metadata": {},
   "source": [
    "![image.png](attachment:image.png)"
   ]
  },
  {
   "cell_type": "markdown",
   "id": "08d17285",
   "metadata": {},
   "source": [
    "#### Реализация"
   ]
  },
  {
   "cell_type": "markdown",
   "id": "655ff6e7",
   "metadata": {},
   "source": [
    "Постановка задачи:\n",
    "\n",
    "* Каждый пользователь - вектор его отношений ко всем имеющимся в данных айтемам;\n",
    "* Ответ модели - усредненный вектор по ближайшим пользователям \n",
    "\n",
    "Реализация:\n",
    "\n",
    "1 - Построить матрицу, user_id X item_id, принимающую значения от 0 - 5. Оценка видеоряду от пользователя.\n",
    "\n",
    "2 - Поиск ближайших соседей для нового пользователя\n",
    "\n",
    "3 - Получение списка рекомендаций"
   ]
  },
  {
   "cell_type": "code",
   "execution_count": 159,
   "id": "51f2aefb",
   "metadata": {},
   "outputs": [],
   "source": [
    "import numpy as np\n",
    "import pandas as pd\n",
    "\n",
    "# Функция для вычисления косинусного расстояния\n",
    "def cosine_similarity(vec_a, vec_b):\n",
    "    dot_product = np.dot(vec_a, vec_b)\n",
    "    norm_a = np.linalg.norm(vec_a)\n",
    "    norm_b = np.linalg.norm(vec_b)\n",
    "    return dot_product / (norm_a * norm_b)\n",
    "\n",
    "# KNN реализация\n",
    "def knn_recommendations(user_id, data_frame_train, data_frame_test, k=5):\n",
    "    user_item_matrix_train = data_frame_train.pivot(index='user_id', columns='item_id', values='rating').fillna(0)\n",
    "    user_item_matrix_test = data_frame_test.pivot(index='user_id', columns='item_id', values='rating').fillna(0)\n",
    "    \n",
    "   # print(user_item_matrix_train.shape)\n",
    "   # print(user_item_matrix_test.shape)\n",
    "    target_user_vector = user_item_matrix_test.loc[user_id].values\n",
    "    \n",
    "    # Вычисление косинусного расстояния от целевого пользователя до всех остальных\n",
    "    similarities = {}\n",
    "    for user, row in user_item_matrix_train.iterrows():\n",
    "        if user != user_id:\n",
    "            similarity = cosine_similarity(target_user_vector, row.values)\n",
    "            similarities[user] = similarity\n",
    "    \n",
    "    # Сортировка пользователей по косинусному расстоянию\n",
    "    sorted_users = sorted(similarities, key=similarities.get, reverse=True)\n",
    "    \n",
    "    # Выборка k ближайших пользователей\n",
    "    nearest_users = sorted_users[:k]\n",
    "\n",
    "    # Получение рекомендаций на основе предпочтений этих пользователей\n",
    "    recommended_movies = user_item_matrix_train.loc[nearest_users].mean().sort_values(ascending=False).index\n",
    "    \n",
    "    # Уберите фильмы, которые уже были просмотрены целевым пользователем\n",
    "    #watched_movies = set(data_frame[data_frame['user_id'] == user_id]['item_id'])\n",
    "    #recommendations = [movie for movie in recommended_movies if movie not in watched_movies]\n",
    "    \n",
    "    return recommended_movies"
   ]
  },
  {
   "cell_type": "markdown",
   "id": "e047753d",
   "metadata": {},
   "source": [
    "### Анализируем результаты"
   ]
  },
  {
   "attachments": {
    "image-2.png": {
     "image/png": "[encoded data removed]"
    }
   },
   "cell_type": "markdown",
   "id": "c34cca81",
   "metadata": {},
   "source": [
    "![image-2.png](attachment:image-2.png)"
   ]
  },
  {
   "cell_type": "code",
   "execution_count": 160,
   "id": "bd1bb9ef",
   "metadata": {},
   "outputs": [],
   "source": [
    "def precision_at_k(predictions, true_items, k):\n",
    "    relevant_items = set(true_items)\n",
    "    top_k_items = predictions[:k]\n",
    "    num_relevant = sum([1 for item in top_k_items if item in relevant_items])\n",
    "    return num_relevant / k\n",
    "\n",
    "def recall_at_k(predictions, true_items, k):\n",
    "    relevant_items = set(true_items)\n",
    "    top_k_items = predictions[:k]\n",
    "    num_relevant = sum([1 for item in top_k_items if item in relevant_items])\n",
    "    \n",
    "    return num_relevant / len(relevant_items)\n",
    "\n",
    "# Оценка качества KNN\n",
    "def evaluate_knn(user_id, train_df, test_df, top_k = 10, k_neighbours = 5):\n",
    "    true_items = test_df[test_df['user_id'] == user_id]['item_id'].tolist()\n",
    "    recommendations = knn_recommendations(user_id, train_df, test_df, k=k_neighbours)\n",
    "    prec_at_k = precision_at_k(recommendations, true_items, top_k)\n",
    "    rec_at_k = recall_at_k(recommendations, true_items, top_k)\n",
    "    \n",
    "    return prec_at_k, rec_at_k"
   ]
  },
  {
   "cell_type": "code",
   "execution_count": 161,
   "id": "7c456dee",
   "metadata": {},
   "outputs": [],
   "source": [
    "def average_precision_and_recall(train_df, test_df, top_k = 10, k_neighbours = 5):\n",
    "    all_users = test_df['user_id'].unique()\n",
    "    \n",
    "    total_precision = 0\n",
    "    total_recall = 0\n",
    "    num_users = 0\n",
    "    \n",
    "    for user_id in all_users:\n",
    "        try:\n",
    "            prec_at_k, rec_at_k = evaluate_knn(user_id, train_df, test_df, top_k, k_neighbours)\n",
    "            total_precision += prec_at_k\n",
    "            total_recall += rec_at_k\n",
    "            num_users += 1\n",
    "        except Exception as e:\n",
    "            print(e)\n",
    "            continue  # Это может быть полезно, если для каких-то пользователей нет рекомендаций или истинных элементов\n",
    "    \n",
    "    avg_precision = total_precision / num_users\n",
    "    avg_recall = total_recall / num_users\n",
    "    \n",
    "    return avg_precision, avg_recall"
   ]
  },
  {
   "cell_type": "code",
   "execution_count": 162,
   "id": "3a4dafc1",
   "metadata": {},
   "outputs": [
    {
     "name": "stdout",
     "output_type": "stream",
     "text": [
      "Average Precision@K: 0.4609\n",
      "Average Recall@K: 0.1268\n"
     ]
    }
   ],
   "source": [
    "precission, recall = average_precision_and_recall(train_df, train_df, top_k = 10, k_neighbours = 7)\n",
    "\n",
    "print(f\"Average Precision@K: {precission:.4f}\")\n",
    "print(f\"Average Recall@K: {recall:.4f}\")"
   ]
  },
  {
   "cell_type": "code",
   "execution_count": 163,
   "id": "5469c9a2",
   "metadata": {},
   "outputs": [
    {
     "name": "stdout",
     "output_type": "stream",
     "text": [
      "Average Precision@K: 0.4182\n",
      "Average Recall@K: 0.0831\n"
     ]
    }
   ],
   "source": [
    "precission, recall = average_precision_and_recall(train_df, test_df, top_k = 10, k_neighbours = 5)\n",
    "\n",
    "print(f\"Average Precision@K: {precission:.4f}\")\n",
    "print(f\"Average Recall@K: {recall:.4f}\")"
   ]
  },
  {
   "cell_type": "markdown",
   "id": "15a7cc1b",
   "metadata": {},
   "source": [
    "#### Почему если передавать тренировочную выборку не получается 1 ?\n",
    "#### Как интерпретировать Precision ?\n",
    "#### Как интерпретировать Recall ?\n"
   ]
  },
  {
   "cell_type": "markdown",
   "id": "1bfb5b83",
   "metadata": {},
   "source": [
    "### Use sklearn"
   ]
  },
  {
   "cell_type": "code",
   "execution_count": 185,
   "id": "a4e1b941",
   "metadata": {},
   "outputs": [
    {
     "name": "stdout",
     "output_type": "stream",
     "text": [
      "Average Precision@K: 0.4909\n",
      "Average Recall@K: 0.0970\n"
     ]
    }
   ],
   "source": [
    "from sklearn.neighbors import NearestNeighbors\n",
    "\n",
    "def train_knn(data_frame, n_neighbors=5):\n",
    "    user_item_matrix = data_frame.pivot(index='user_id', columns='item_id', values='rating').fillna(0)\n",
    "    model_knn = NearestNeighbors(metric='cosine', algorithm='brute', n_neighbors=n_neighbors + 1)  # +1 чтобы убрать самого пользователя из списка соседей\n",
    "    model_knn.fit(user_item_matrix)\n",
    "    return model_knn, user_item_matrix\n",
    "\n",
    "def get_recommendations(user_id, model_knn, user_item_matrix):\n",
    "\n",
    "    distances, indices = model_knn.kneighbors(user_item_matrix_test.loc[user_id].values.reshape(1, -1))\n",
    "    closest_users = user_item_matrix.index[indices.flatten()]\n",
    "    recommended_movies = user_item_matrix.loc[closest_users].mean().sort_values(ascending=False).index\n",
    "    return recommended_movies\n",
    "\n",
    "# Функции оценки\n",
    "def precision_at_k(predictions, true_items, k):\n",
    "    top_k_items = predictions[:k]\n",
    "    num_relevant = sum([1 for item in top_k_items if item in true_items])\n",
    "    return num_relevant / k\n",
    "\n",
    "def recall_at_k(predictions, true_items, k):\n",
    "    top_k_items = predictions[:k]\n",
    "    num_relevant = sum([1 for item in top_k_items if item in true_items])\n",
    "    return num_relevant / len(true_items)\n",
    "\n",
    "def evaluate_for_user(user_id, model_knn, user_item_matrix, test_df, k=5):\n",
    "    recommendations = get_recommendations(user_id, model_knn, user_item_matrix)\n",
    "    true_items = test_df[test_df['user_id'] == user_id]['item_id'].tolist()\n",
    "    \n",
    "    prec_at_k = precision_at_k(recommendations, true_items, 10)\n",
    "    rec_at_k = recall_at_k(recommendations, true_items, 10)\n",
    "    \n",
    "    return prec_at_k, rec_at_k\n",
    "\n",
    "def average_precision_and_recall_for_all(model_knn, user_item_matrix, test_df, k=10):\n",
    "    all_users = test_df['user_id'].unique()\n",
    "    \n",
    "    total_precision = 0\n",
    "    total_recall = 0\n",
    "    num_users = 0\n",
    "    \n",
    "    for user_id in all_users:\n",
    "        #try:\n",
    "            prec_at_k, rec_at_k = evaluate_for_user(user_id, model_knn, user_item_matrix, test_df, k)\n",
    "            total_precision += prec_at_k\n",
    "            total_recall += rec_at_k\n",
    "            num_users += 1\n",
    "       # except:\n",
    "          #  continue\n",
    "    \n",
    "    avg_precision = total_precision / num_users\n",
    "    avg_recall = total_recall / num_users\n",
    "    \n",
    "    return avg_precision, avg_recall\n",
    "\n",
    "# Используйте эти функции, предполагая, что у вас уже есть train_df и test_df\n",
    "model, user_item_matrix = train_knn(train_df)\n",
    "user_item_matrix_test = test_df.pivot(index='user_id', columns='item_id', values='rating').fillna(0)\n",
    "\n",
    "avg_prec, avg_rec = average_precision_and_recall_for_all(model, user_item_matrix, test_df)\n",
    "print(f\"Average Precision@K: {avg_prec:.4f}\")\n",
    "print(f\"Average Recall@K: {avg_rec:.4f}\")"
   ]
  },
  {
   "cell_type": "code",
   "execution_count": null,
   "id": "2a0d9e93",
   "metadata": {},
   "outputs": [],
   "source": []
  },
  {
   "cell_type": "code",
   "execution_count": null,
   "id": "efbb7c8a",
   "metadata": {},
   "outputs": [],
   "source": []
  },
  {
   "cell_type": "code",
   "execution_count": null,
   "id": "48f6ae72",
   "metadata": {},
   "outputs": [],
   "source": []
  }
 ],
 "metadata": {
  "kernelspec": {
   "display_name": "Python 3 (ipykernel)",
   "language": "python",
   "name": "python3"
  },
  "language_info": {
   "codemirror_mode": {
    "name": "ipython",
    "version": 3
   },
   "file_extension": ".py",
   "mimetype": "text/x-python",
   "name": "python",
   "nbconvert_exporter": "python",
   "pygments_lexer": "ipython3",
   "version": "3.10.6"
  }
 },
 "nbformat": 4,
 "nbformat_minor": 5
}
