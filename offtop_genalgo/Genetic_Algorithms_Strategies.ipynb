{
  "cells": [
    {
      "cell_type": "markdown",
      "source": [
        "## Стратегии в генетических алгоритмах\n",
        "\n",
        "Генетические алгоритмы (ГА) — это методы оптимизации и поиска решений, вдохновленные процессом естественного отбора. Они используют техники, такие как наследование, мутация, скрещивание и отбор, для получения приближенных решений задач. Давайте рассмотрим основные стратегии, используемые в ГА:\n",
        "\n",
        "### 1. Мутация\n",
        "Мутация — это случайное изменение одного или нескольких генов в индивиде. Это помогает внести разнообразие в популяцию и предотвратить застревание в локальных минимумах.\n",
        "\n",
        "#### Стратегии мутации:\n",
        "- **Битовая мутация:** Используется для бинарных строк. Каждый бит инвертируется с небольшой вероятностью.\n",
        "- **Случайная мутация:** Случайное изменение значения гена на другое допустимое значение.\n",
        "- **Мутация смещения:** Случайное добавление или вычитание небольшого значения из гена.\n",
        "- **Мутация обмена:** Обмен значениями двух случайных генов в индивиде."
      ],
      "metadata": {
        "noteable": {
          "cell_type": "markdown"
        }
      },
      "id": "3c66c4d5-e3ad-4fdb-be7d-bda83b263e97"
    },
    {
      "cell_type": "markdown",
      "source": [
        "### 2. Скрещивание (рекомбинация)\n",
        "Скрещивание — это процесс комбинирования генов двух родителей для создания потомства.\n",
        "\n",
        "#### Стратегии скрещивания:\n",
        "- **Одноточечное скрещивание:** Выбирается случайная точка на геноме, и два родителя обмениваются частями своих геномов до и после этой точки.\n",
        "- **Многоточечное скрещивание:** Используются две или более точки для обмена частями генома.\n",
        "- **Равномерное скрещивание:** Каждый ген выбирается случайным образом от одного из родителей.\n",
        "\n",
        "### 3. Отбор\n",
        "Отбор — это процесс выбора индивидов для следующего поколения на основе их приспособленности.\n",
        "\n",
        "#### Стратегии отбора:\n",
        "- **Отбор рулеткой:** Вероятность выбора индивида пропорциональна его приспособленности.\n",
        "- **Турнирный отбор:** Выбирается небольшой набор случайных индивидов, и лучший из них (с наибольшей приспособленностью) выбирается для следующего поколения.\n",
        "- **Элитарный отбор:** Лучшие индивиды автоматически переходят в следующее поколение."
      ],
      "metadata": {
        "noteable": {
          "cell_type": "markdown"
        }
      },
      "id": "0e56bf6d-a8ce-48a6-b749-c9cbbfb05bcc"
    },
    {
      "cell_type": "markdown",
      "source": [
        "### 4. Замена\n",
        "Замена определяет, как новое поколение заменяет старое.\n",
        "\n",
        "#### Стратегии замены:\n",
        "- **Полная замена:** Все старое поколение заменяется новым.\n",
        "- **Стационарная замена:** Только некоторые индивиды заменяются новыми.\n",
        "\n",
        "Теперь, когда мы рассмотрели основные стратегии, используемые в генетических алгоритмах, давайте перейдем к задаче для самостоятельного решения."
      ],
      "metadata": {
        "noteable": {
          "cell_type": "markdown"
        }
      },
      "id": "6c914cc2-a6d5-4ee4-937d-d6d1e871852d"
    },
    {
      "cell_type": "markdown",
      "source": [
        "## Задача оптимизации маршрута доставки (Задача коммивояжера)\n",
        "\n",
        "### Описание задачи\n",
        "У вас есть список городов и расстояния между каждой парой городов. Задача состоит в том, чтобы найти самый короткий возможный маршрут, который посетит каждый город ровно один раз и вернется в исходный город.\n",
        "\n",
        "### Алгоритм решения с использованием генетического алгоритма\n",
        "1. **Геном:** Последовательность городов, представляющая маршрут. Например, для 5 городов геном может выглядеть так: [3, 1, 4, 2, 5], что означает маршрут, начинающийся в 3-м городе, затем идущий в 1-й, 4-й, 2-й и завершающийся в 5-м городе.\n",
        "\n",
        "2. **Индивид:** Один маршрут, представленный геномом.\n",
        "\n",
        "3. **Популяция:** Набор различных маршрутов (индивидов).\n",
        "\n",
        "4. **Функция приспособленности:** Обратное значение общего расстояния маршрута. Мы хотим минимизировать общее расстояние, поэтому маршруты с меньшим расстоянием будут иметь более высокую приспособленность.\n",
        "\n",
        "5. **Скрещивание:** Для создания потомства из двух родителей мы можем использовать одноточечное скрещивание. Выберем случайную точку в геноме и комбинируем двух родителей, чтобы получить двух потомков.\n",
        "\n",
        "6. **Мутация:** Чтобы внести разнообразие, мы можем случайно менять местами два города в маршруте.\n",
        "\n",
        "7. **Отбор:** Мы можем использовать турнирный отбор, где случайно выбирается подмножество индивидов, и лучший из них (с наименьшим расстоянием) выбирается для следующего поколения.\n",
        "\n"
      ],
      "metadata": {
        "noteable": {
          "cell_type": "markdown"
        }
      },
      "id": "c369c541-c4c6-48bd-bafc-d9a5b46a597d"
    },
    {
      "cell_type": "markdown",
      "source": [
        "### Подсказки и комментарии\n",
        "\n",
        "1. **Функция приспособленности (fitness)**: Эта функция должна вычислять обратное значение длины маршрута. Таким образом, маршруты с меньшим расстоянием будут иметь более высокую приспособленность. Вам следует использовать функцию `route_length` для вычисления длины маршрута.\n",
        "\n",
        "2. **Функция скрещивания (crossover)**: Реализуйте одноточечное скрещивание. Выберите случайную точку в геноме и комбинируйте двух родителей, чтобы получить двух потомков. Убедитесь, что каждый город посещается только один раз в каждом потомке.\n",
        "\n",
        "3. **Функция мутации (mutate)**: Чтобы внести разнообразие, вы можете случайно менять местами два города в маршруте. Это простая стратегия мутации, которая может помочь исследовать новые маршруты.\n",
        "\n",
        "4. **Функция отбора (selection)**: Реализуйте турнирный отбор. Случайно выберите подмножество индивидов и выберите лучший из них (с наименьшим расстоянием) для следующего поколения.\n",
        "\n",
        "5. **Генетический алгоритм (genetic_algorithm)**: Инициализируйте начальную популяцию случайными маршрутами. Затем в цикле по поколениям применяйте функции отбора, скрещивания и мутации, чтобы создать новую популяцию. После завершения всех поколений верните лучший маршрут из последней популяции."
      ],
      "metadata": {
        "noteable": {
          "cell_type": "markdown"
        }
      },
      "id": "beb13fd4-6618-4f4b-9514-ef373cb6b399"
    },
    {
      "cell_type": "code",
      "source": [
        "!pip install wandb"
      ],
      "outputs": [
        {
          "output_type": "stream",
          "name": "stdout",
          "text": [
            "Requirement already satisfied: wandb in /opt/conda/lib/python3.9/site-packages (0.15.11)\r\n"
          ]
        },
        {
          "output_type": "stream",
          "name": "stdout",
          "text": [
            "Requirement already satisfied: psutil>=5.0.0 in /opt/conda/lib/python3.9/site-packages (from wandb) (5.9.5)\r\n",
            "Requirement already satisfied: Click!=8.0.0,>=7.1 in /opt/conda/lib/python3.9/site-packages (from wandb) (8.1.3)\r\n",
            "Requirement already satisfied: setproctitle in /opt/conda/lib/python3.9/site-packages (from wandb) (1.3.2)\r\n",
            "Requirement already satisfied: setuptools in /opt/conda/lib/python3.9/site-packages (from wandb) (68.1.2)\r\n",
            "Requirement already satisfied: appdirs>=1.4.3 in /opt/conda/lib/python3.9/site-packages (from wandb) (1.4.4)\r\n",
            "Requirement already satisfied: sentry-sdk>=1.0.0 in /opt/conda/lib/python3.9/site-packages (from wandb) (1.31.0)\r\n",
            "Requirement already satisfied: protobuf!=4.21.0,<5,>=3.15.0 in /opt/conda/lib/python3.9/site-packages (from wandb) (4.21.7)\r\n",
            "Requirement already satisfied: docker-pycreds>=0.4.0 in /opt/conda/lib/python3.9/site-packages (from wandb) (0.4.0)\r\n",
            "Requirement already satisfied: PyYAML in /opt/conda/lib/python3.9/site-packages (from wandb) (6.0)\r\n",
            "Requirement already satisfied: typing-extensions in /opt/conda/lib/python3.9/site-packages (from wandb) (4.5.0)\r\n",
            "Requirement already satisfied: GitPython!=3.1.29,>=1.0.0 in /opt/conda/lib/python3.9/site-packages (from wandb) (3.1.31)\r\n",
            "Requirement already satisfied: requests<3,>=2.0.0 in /opt/conda/lib/python3.9/site-packages (from wandb) (2.28.2)\r\n",
            "Requirement already satisfied: pathtools in /opt/conda/lib/python3.9/site-packages (from wandb) (0.1.2)\r\n",
            "Requirement already satisfied: six>=1.4.0 in /opt/conda/lib/python3.9/site-packages (from docker-pycreds>=0.4.0->wandb) (1.16.0)\r\n",
            "Requirement already satisfied: gitdb<5,>=4.0.1 in /opt/conda/lib/python3.9/site-packages (from GitPython!=3.1.29,>=1.0.0->wandb) (4.0.10)\r\n",
            "Requirement already satisfied: urllib3<1.27,>=1.21.1 in /opt/conda/lib/python3.9/site-packages (from requests<3,>=2.0.0->wandb) (1.26.15)\r\n",
            "Requirement already satisfied: charset-normalizer<4,>=2 in /opt/conda/lib/python3.9/site-packages (from requests<3,>=2.0.0->wandb) (2.1.1)\r\n",
            "Requirement already satisfied: idna<4,>=2.5 in /opt/conda/lib/python3.9/site-packages (from requests<3,>=2.0.0->wandb) (3.4)\r\n",
            "Requirement already satisfied: certifi>=2017.4.17 in /opt/conda/lib/python3.9/site-packages (from requests<3,>=2.0.0->wandb) (2023.7.22)\r\n"
          ]
        },
        {
          "output_type": "stream",
          "name": "stdout",
          "text": [
            "Requirement already satisfied: smmap<6,>=3.0.1 in /opt/conda/lib/python3.9/site-packages (from gitdb<5,>=4.0.1->GitPython!=3.1.29,>=1.0.0->wandb) (5.0.0)\r\n"
          ]
        }
      ],
      "execution_count": null,
      "metadata": {
        "noteable": {
          "cell_type": "python"
        },
        "ExecuteTime": {
          "end_time": "2023-10-01T12:54:07.664336+00:00",
          "start_time": "2023-10-01T12:54:03.696375+00:00"
        }
      },
      "id": "bae0248b-2b1b-4b3c-a7b3-d4773dbfa303"
    },
    {
      "cell_type": "code",
      "source": [
        "# Функция для вычисления длины маршрута\n",
        "def route_length(route, distances):\n",
        "    return sum([distances[route[i]][route[i + 1]] for i in range(len(route) - 1)]) + distances[route[-1]][route[0]]\n",
        "\n"
      ],
      "outputs": [],
      "execution_count": null,
      "metadata": {
        "jupyter": {
          "outputs_hidden": false,
          "source_hidden": false
        },
        "noteable": {
          "cell_type": "code"
        },
        "ExecuteTime": {
          "end_time": "2023-10-01T12:48:15.632008+00:00",
          "start_time": "2023-10-01T12:48:15.474961+00:00"
        }
      },
      "id": "126816b2-740a-4826-a1fd-f86440ed7abd"
    },
    {
      "cell_type": "code",
      "source": [
        "import wandb\n",
        "\n",
        "class GeneticTSP:\n",
        "    def __init__(self, cities, distances, pop_size=100, p_crossover=0.8, p_mutation=0.05, tournament_size=5):\n",
        "        self.cities = cities\n",
        "        self.distances = distances\n",
        "        self.pop_size = pop_size\n",
        "        self.p_crossover = p_crossover\n",
        "        self.p_mutation = p_mutation\n",
        "        self.tournament_size = tournament_size\n",
        "        self.population = self._initialize_population()\n",
        "\n",
        "    def _initialize_population(self):\n",
        "        return [random.sample(self.cities, len(self.cities)) for _ in range(self.pop_size)]\n",
        "\n",
        "    # TODO: Реализуйте функцию приспособленности\n",
        "    def fitness(self, route):\n",
        "        # Ваш код здесь\n",
        "        pass\n",
        "        #return float numb\n",
        "\n",
        "    # TODO: Реализуйте функцию одноточечного скрещивание \n",
        "    def crossover(self, parent1, parent2):\n",
        "        # Ваш код здесь\n",
        "        pass\n",
        "        #return child1, child2\n",
        "\n",
        "    # TODO: Реализуйте функцию мутации путем обмена двух городов местами\n",
        "    def mutate(self, route):\n",
        "        \n",
        "        # Ваш код здесь\n",
        "        pass\n",
        "        # return route\n",
        "\n",
        "    # TODO: Реализуйте функцию турнирного отбора\n",
        "    def selection(self):\n",
        "        # Ваш код здесь\n",
        "        pass\n",
        "        # return selected\n",
        "\n",
        "    def run(self, num_generations=1000):\n",
        "        # Инициализация wandb\n",
        "        wandb.init(project='GeneticTSPSolution')\n",
        "        for generation in range(num_generations):\n",
        "            new_population = []\n",
        "            for _ in range(self.pop_size // 2):\n",
        "                parent1, parent2 = random.sample(self.population, 2)\n",
        "                child1, child2 = self.crossover(parent1, parent2)\n",
        "                new_population.append(self.mutate(child1))\n",
        "                new_population.append(self.mutate(child2))\n",
        "            self.population = self.selection() + new_population\n",
        "\n",
        "            # Логирование в wandb\n",
        "            avg_fitness = np.mean([self.fitness(route) for route in self.population])\n",
        "            max_fitness = max([self.fitness(route) for route in self.population])\n",
        "            min_fitness = min([self.fitness(route) for route in self.population])\n",
        "            wandb.log({'Average Fitness': avg_fitness, 'Max Fitness': max_fitness, 'Min Fitness': min_fitness})\n",
        "\n",
        "        best_route = max(self.population, key=self.fitness)\n",
        "        return best_route, 1 / self.fitness(best_route)"
      ],
      "outputs": [],
      "execution_count": null,
      "metadata": {
        "noteable": {
          "cell_type": "code"
        },
        "ExecuteTime": {
          "end_time": "2023-10-01T12:54:10.623820+00:00",
          "start_time": "2023-10-01T12:54:10.458386+00:00"
        }
      },
      "id": "e42866ee-6f3a-4624-a590-2d9155c464fc"
    },
    {
      "cell_type": "markdown",
      "source": [
        "### Решение задачи коммивояжера с использованием генетического алгоритма"
      ],
      "metadata": {
        "noteable": {
          "cell_type": "markdown"
        }
      },
      "id": "e2ba67c8-b08c-4d32-8094-829c2d889bf2"
    },
    {
      "cell_type": "code",
      "source": [
        "class GeneticTSPSolution(GeneticTSP):\n",
        "    def fitness(self, route):\n",
        "        return 1 / route_length(route, self.distances)\n",
        "\n",
        "    def crossover(self, parent1, parent2):\n",
        "        # Одноточечное скрещивание\n",
        "        crossover_point = random.randint(0, len(parent1) - 1)\n",
        "        child1 = parent1[:crossover_point] + [city for city in parent2 if city not in parent1[:crossover_point]]\n",
        "        child2 = parent2[:crossover_point] + [city for city in parent1 if city not in parent2[:crossover_point]]\n",
        "        return child1, child2\n",
        "\n",
        "    def mutate(self, route):\n",
        "        # Мутация путем обмена двух городов местами\n",
        "        idx1, idx2 = random.sample(range(len(route)), 2)\n",
        "        route[idx1], route[idx2] = route[idx2], route[idx1]\n",
        "        return route\n",
        "\n",
        "    def selection(self):\n",
        "        # Турнирный отбор\n",
        "        selected = []\n",
        "        for _ in range(self.pop_size):\n",
        "            participants = random.sample(self.population, self.tournament_size)\n",
        "            best_participant = min(participants, key=self.fitness)\n",
        "            selected.append(best_participant)\n",
        "        return selected\n",
        "\n",
        "    def run(self, num_generations=1000):\n",
        "        # Инициализация wandb\n",
        "        for generation in range(num_generations):\n",
        "            new_population = []\n",
        "            for _ in range(self.pop_size // 2):\n",
        "                parent1, parent2 = random.sample(self.population, 2)\n",
        "                child1, child2 = self.crossover(parent1, parent2)\n",
        "                new_population.append(self.mutate(child1))\n",
        "                new_population.append(self.mutate(child2))\n",
        "            self.population = self.selection() + new_population\n",
        "\n",
        "            # Логирование в wandb\n",
        "            avg_fitness = np.mean([self.fitness(route) for route in self.population])\n",
        "            max_fitness = max([self.fitness(route) for route in self.population])\n",
        "            min_fitness = min([self.fitness(route) for route in self.population])\n",
        "            wandb.log({'Average Fitness': avg_fitness, 'Max Fitness': max_fitness, 'Min Fitness': min_fitness})\n",
        "\n",
        "        best_route = max(self.population, key=self.fitness)\n",
        "        return best_route, 1 / self.fitness(best_route)"
      ],
      "outputs": [],
      "execution_count": null,
      "metadata": {
        "noteable": {
          "cell_type": "code"
        },
        "ExecuteTime": {
          "end_time": "2023-10-01T13:00:11.022155+00:00",
          "start_time": "2023-10-01T13:00:10.852210+00:00"
        }
      },
      "id": "5a640c38-e549-4991-8cfc-5d22013e6565"
    },
    {
      "cell_type": "code",
      "source": [
        "import random\n",
        "import numpy as np\n",
        "\n",
        "wandb.login(key=\"e5ac79d62944a4e1910f83da82ae92c37b09ecdf\")\n",
        "# Определение городов и их координат\n",
        "cities = ['A', 'B', 'C', 'D', 'E', 'F', 'G', 'H', 'I', 'J']\n",
        "locations = {\n",
        "    'A': (0, 0),\n",
        "    'B': (1, 3),\n",
        "    'C': (2, 6),\n",
        "    'D': (3, 2),\n",
        "    'E': (4, 4),\n",
        "    'F': (5, 1),\n",
        "    'G': (6, 5),\n",
        "    'H': (7, 0),\n",
        "    'I': (8, 3),\n",
        "    'J': (9, 7)\n",
        "}\n",
        "\n",
        "# Функция для вычисления евклидова расстояния между двумя городами\n",
        "def distance(city1, city2):\n",
        "    x1, y1 = locations[city1]\n",
        "    x2, y2 = locations[city2]\n",
        "    return np.sqrt((x2 - x1)**2 + (y2 - y1)**2)\n",
        "\n",
        "# Создание матрицы расстояний\n",
        "distances_matrix = {}\n",
        "for city1 in cities:\n",
        "    distances_matrix[city1] = {}\n",
        "    for city2 in cities:\n",
        "        distances_matrix[city1][city2] = distance(city1, city2)\n",
        "\n",
        "config = {'pop_size':100,\n",
        "         'p_crossover':0.8,\n",
        "         'p_mutation':0.05,\n",
        "          'tournament_size':2}\n",
        "\n",
        "wandb.init(project='GeneticTSPSolution', entity = \"babycar27\", config=config)\n",
        "\n",
        "# Запускаем генетический алгоритм для решения задачи коммивояжера\n",
        "genetic_solver = GeneticTSPSolution(cities, distances_matrix, pop_size=config['pop_size'], p_crossover=config['p_crossover'], p_mutation=config['p_mutation'], tournament_size=config['tournament_size'])\n",
        "best_route, best_distance = genetic_solver.run(num_generations=100)\n",
        "\n",
        "best_route, best_distance\n",
        "wandb.finish()"
      ],
      "outputs": [],
      "execution_count": null,
      "metadata": {
        "noteable": {
          "cell_type": "code"
        },
        "ExecuteTime": {
          "end_time": "2023-10-01T13:05:59.165322+00:00",
          "start_time": "2023-10-01T13:05:54.544292+00:00"
        }
      },
      "id": "aaf98320-0f85-4eda-9682-488831b2c87d"
    },
    {
      "cell_type": "code",
      "source": [
        "!pip install optuna"
      ],
      "outputs": [
        {
          "output_type": "stream",
          "name": "stdout",
          "text": [
            "Collecting optuna\r\n"
          ]
        },
        {
          "output_type": "stream",
          "name": "stdout",
          "text": [
            "  Downloading optuna-3.3.0-py3-none-any.whl (404 kB)\r\n",
            "\u001b[?25l     \u001b[90m━━━━━━━━━━━━━━━━━━━━━━━━━━━━━━━━━━━━━━━━\u001b[0m \u001b[32m0.0/404.2 kB\u001b[0m \u001b[31m?\u001b[0m eta \u001b[36m-:--:--\u001b[0m\r",
            "\u001b[2K     \u001b[90m━━━━━━━━━━━━━━━━━━━━━━━━━━━━━━━━━━━━━━\u001b[0m \u001b[32m404.2/404.2 kB\u001b[0m \u001b[31m23.8 MB/s\u001b[0m eta \u001b[36m0:00:00\u001b[0m\r\n",
            "\u001b[?25h"
          ]
        },
        {
          "output_type": "stream",
          "name": "stdout",
          "text": [
            "Requirement already satisfied: sqlalchemy>=1.3.0 in /opt/conda/lib/python3.9/site-packages (from optuna) (1.4.48)\r\n"
          ]
        },
        {
          "output_type": "stream",
          "name": "stdout",
          "text": [
            "Collecting colorlog\r\n",
            "  Downloading colorlog-6.7.0-py2.py3-none-any.whl (11 kB)\r\n",
            "Requirement already satisfied: numpy in /opt/conda/lib/python3.9/site-packages (from optuna) (1.23.5)\r\n",
            "Requirement already satisfied: PyYAML in /opt/conda/lib/python3.9/site-packages (from optuna) (6.0)\r\n",
            "Requirement already satisfied: packaging>=20.0 in /opt/conda/lib/python3.9/site-packages (from optuna) (23.1)\r\n"
          ]
        },
        {
          "output_type": "stream",
          "name": "stdout",
          "text": [
            "Collecting cmaes>=0.10.0\r\n",
            "  Downloading cmaes-0.10.0-py3-none-any.whl (29 kB)\r\n",
            "Requirement already satisfied: tqdm in /opt/conda/lib/python3.9/site-packages (from optuna) (4.65.0)\r\n",
            "Requirement already satisfied: alembic>=1.5.0 in /opt/conda/lib/python3.9/site-packages (from optuna) (1.11.1)\r\n",
            "Requirement already satisfied: Mako in /opt/conda/lib/python3.9/site-packages (from alembic>=1.5.0->optuna) (1.2.4)\r\n",
            "Requirement already satisfied: typing-extensions>=4 in /opt/conda/lib/python3.9/site-packages (from alembic>=1.5.0->optuna) (4.5.0)\r\n"
          ]
        },
        {
          "output_type": "stream",
          "name": "stdout",
          "text": [
            "Requirement already satisfied: greenlet!=0.4.17 in /opt/conda/lib/python3.9/site-packages (from sqlalchemy>=1.3.0->optuna) (1.1.3.post0)\r\n"
          ]
        },
        {
          "output_type": "stream",
          "name": "stdout",
          "text": [
            "Requirement already satisfied: MarkupSafe>=0.9.2 in /opt/conda/lib/python3.9/site-packages (from Mako->alembic>=1.5.0->optuna) (2.1.2)\r\n"
          ]
        },
        {
          "output_type": "stream",
          "name": "stdout",
          "text": [
            "Installing collected packages: colorlog, cmaes, optuna\r\n"
          ]
        },
        {
          "output_type": "stream",
          "name": "stdout",
          "text": [
            "Successfully installed cmaes-0.10.0 colorlog-6.7.0 optuna-3.3.0\r\n"
          ]
        }
      ],
      "execution_count": null,
      "metadata": {
        "jupyter": {
          "outputs_hidden": false,
          "source_hidden": false
        },
        "noteable": {
          "cell_type": "code"
        },
        "ExecuteTime": {
          "end_time": "2023-10-01T13:06:56.507662+00:00",
          "start_time": "2023-10-01T13:06:52.367444+00:00"
        }
      },
      "id": "34e89852-6632-4f91-9429-c547505fab2d"
    },
    {
      "cell_type": "code",
      "source": [
        "def objective(trial):\n",
        "    # Гиперпараметры\n",
        "    config = {\n",
        "        'pop_size': trial.suggest_int('pop_size', 50, 200),\n",
        "        'p_crossover': trial.suggest_float('p_crossover', 0.5, 1.0),\n",
        "        'p_mutation': trial.suggest_float('p_mutation', 0.01, 0.2),\n",
        "        'tournament_size': trial.suggest_int('tournament_size', 2, 10)\n",
        "    }\n",
        "\n",
        "    # Инициализация wandb\n",
        "    run = wandb.init(project='GeneticTSPSolution', entity='babycar27', name=str(trial.number), config=config)\n",
        "\n",
        "    # Запускаем генетический алгоритм\n",
        "    genetic_solver = GeneticTSPSolution(cities, distances_matrix, **config)\n",
        "    _, best_distance = genetic_solver.run(num_generations=100)\n",
        "\n",
        "    run.finish()\n",
        "\n",
        "    return best_distance\n",
        "\n",
        "# Запускаем оптимизацию с помощью Optuna\n",
        "study = optuna.create_study(direction='minimize')\n",
        "study.optimize(objective, n_trials=30)"
      ],
      "outputs": [
        {
          "output_type": "stream",
          "name": "stderr",
          "text": [
            "[I 2023-10-01 13:09:06,157] A new study created in memory with name: no-name-1d4c84ce-57f1-459f-8445-26126ae7b776\n"
          ]
        },
        {
          "output_type": "stream",
          "name": "stderr",
          "text": [
            "\u001b[34m\u001b[1mwandb\u001b[0m: Tracking run with wandb version 0.15.11\n"
          ]
        },
        {
          "output_type": "stream",
          "name": "stderr",
          "text": [
            "\u001b[34m\u001b[1mwandb\u001b[0m: Run data is saved locally in \u001b[35m\u001b[1m/etc/noteable/project/wandb/run-20231001_130906-uw4h9svo\u001b[0m\n",
            "\u001b[34m\u001b[1mwandb\u001b[0m: Run \u001b[1m`wandb offline`\u001b[0m to turn off syncing.\n"
          ]
        },
        {
          "output_type": "stream",
          "name": "stderr",
          "text": [
            "\u001b[34m\u001b[1mwandb\u001b[0m: Syncing run \u001b[33m0\u001b[0m\n"
          ]
        },
        {
          "output_type": "stream",
          "name": "stderr",
          "text": [
            "\u001b[34m\u001b[1mwandb\u001b[0m: ⭐️ View project at \u001b[34m\u001b[4mhttps://wandb.ai/babycar27/GeneticTSPSolution\u001b[0m\n"
          ]
        },
        {
          "output_type": "stream",
          "name": "stderr",
          "text": [
            "\u001b[34m\u001b[1mwandb\u001b[0m: 🚀 View run at \u001b[34m\u001b[4mhttps://wandb.ai/babycar27/GeneticTSPSolution/runs/uw4h9svo\u001b[0m\n"
          ]
        },
        {
          "output_type": "stream",
          "name": "stderr",
          "text": [
            "\u001b[34m\u001b[1mwandb\u001b[0m: Waiting for W&B process to finish... \u001b[32m(success).\u001b[0m\n"
          ]
        },
        {
          "output_type": "stream",
          "name": "stderr",
          "text": [
            "\u001b[34m\u001b[1mwandb\u001b[0m: \n",
            "\u001b[34m\u001b[1mwandb\u001b[0m: Run history:\n",
            "\u001b[34m\u001b[1mwandb\u001b[0m: Average Fitness █▆▄▃▂▃▂▂▂▂▂▂▂▁▂▂▂▂▂▁▁▂▂▂▂▁▂▂▂▁▁▁▂▂▂▁▂▁▂▂\n",
            "\u001b[34m\u001b[1mwandb\u001b[0m:     Max Fitness █▄▄▃▁▄▄▂▃▁▆▃▄▅▅▅▃▄▄▄▄▄▄▄▄▂▂▃▃▃▅▄▁▅▅▅▄▂▃▄\n",
            "\u001b[34m\u001b[1mwandb\u001b[0m:     Min Fitness █▅▃▃▃▃▁▁▁▁▁▁▁▁▁▁▁▁▁▁▁▁▁▁▁▁▁▁▁▁▁▁▁▁▁▁▁▁▁▁\n",
            "\u001b[34m\u001b[1mwandb\u001b[0m: \n",
            "\u001b[34m\u001b[1mwandb\u001b[0m: Run summary:\n",
            "\u001b[34m\u001b[1mwandb\u001b[0m: Average Fitness 0.0168\n",
            "\u001b[34m\u001b[1mwandb\u001b[0m:     Max Fitness 0.02349\n",
            "\u001b[34m\u001b[1mwandb\u001b[0m:     Min Fitness 0.01535\n",
            "\u001b[34m\u001b[1mwandb\u001b[0m: \n"
          ]
        },
        {
          "output_type": "stream",
          "name": "stderr",
          "text": [
            "\u001b[34m\u001b[1mwandb\u001b[0m: 🚀 View run \u001b[33m0\u001b[0m at: \u001b[34m\u001b[4mhttps://wandb.ai/babycar27/GeneticTSPSolution/runs/uw4h9svo\u001b[0m\n",
            "\u001b[34m\u001b[1mwandb\u001b[0m: Synced 5 W&B file(s), 0 media file(s), 0 artifact file(s) and 0 other file(s)\n"
          ]
        },
        {
          "output_type": "stream",
          "name": "stderr",
          "text": [
            "\u001b[34m\u001b[1mwandb\u001b[0m: Find logs at: \u001b[35m\u001b[1m./wandb/run-20231001_130906-uw4h9svo/logs\u001b[0m\n"
          ]
        },
        {
          "output_type": "stream",
          "name": "stderr",
          "text": [
            "[I 2023-10-01 13:09:26,291] Trial 0 finished with value: 42.57945098791897 and parameters: {'pop_size': 102, 'p_crossover': 0.885302810344778, 'p_mutation': 0.10511508962038424, 'tournament_size': 6}. Best is trial 0 with value: 42.57945098791897.\n"
          ]
        },
        {
          "output_type": "stream",
          "name": "stderr",
          "text": [
            "\u001b[34m\u001b[1mwandb\u001b[0m: - Waiting for wandb.init()...\r"
          ]
        },
        {
          "output_type": "stream",
          "name": "stderr",
          "text": [
            "\u001b[34m\u001b[1mwandb\u001b[0m: \\ Waiting for wandb.init()...\r"
          ]
        },
        {
          "output_type": "stream",
          "name": "stderr",
          "text": [
            "\u001b[34m\u001b[1mwandb\u001b[0m: Tracking run with wandb version 0.15.11\n"
          ]
        },
        {
          "output_type": "stream",
          "name": "stderr",
          "text": [
            "\u001b[34m\u001b[1mwandb\u001b[0m: Run data is saved locally in \u001b[35m\u001b[1m/etc/noteable/project/wandb/run-20231001_130926-23v5zbrq\u001b[0m\n",
            "\u001b[34m\u001b[1mwandb\u001b[0m: Run \u001b[1m`wandb offline`\u001b[0m to turn off syncing.\n"
          ]
        },
        {
          "output_type": "stream",
          "name": "stderr",
          "text": [
            "\u001b[34m\u001b[1mwandb\u001b[0m: Syncing run \u001b[33m1\u001b[0m\n"
          ]
        },
        {
          "output_type": "stream",
          "name": "stderr",
          "text": [
            "\u001b[34m\u001b[1mwandb\u001b[0m: ⭐️ View project at \u001b[34m\u001b[4mhttps://wandb.ai/babycar27/GeneticTSPSolution\u001b[0m\n"
          ]
        },
        {
          "output_type": "stream",
          "name": "stderr",
          "text": [
            "\u001b[34m\u001b[1mwandb\u001b[0m: 🚀 View run at \u001b[34m\u001b[4mhttps://wandb.ai/babycar27/GeneticTSPSolution/runs/23v5zbrq\u001b[0m\n"
          ]
        },
        {
          "output_type": "stream",
          "name": "stderr",
          "text": [
            "\u001b[34m\u001b[1mwandb\u001b[0m: Waiting for W&B process to finish... \u001b[32m(success).\u001b[0m\n"
          ]
        },
        {
          "output_type": "stream",
          "name": "stderr",
          "text": [
            "\u001b[34m\u001b[1mwandb\u001b[0m: \n",
            "\u001b[34m\u001b[1mwandb\u001b[0m: Run history:\n",
            "\u001b[34m\u001b[1mwandb\u001b[0m: Average Fitness █▇▅▄▃▃▃▂▂▂▁▂▁▂▂▃▃▂▂▁▁▃▁▁▁▂▂▂▂▂▃▂▂▁▂▂▂▂▂▁\n",
            "\u001b[34m\u001b[1mwandb\u001b[0m:     Max Fitness ▅▆▄▂▄▅▃▆▃▃▅▃█▃▃▄▄▇▂▁▃▄▄▆▃▆▄▇▄▁▅▄▄▄▃▄▂▄▃▄\n",
            "\u001b[34m\u001b[1mwandb\u001b[0m:     Min Fitness ▄▄▅█▂▃▃▅▁▁▁▅▂▃▃▅▁▆▅▄▄▆▅▂▃▂▂▂▁▁▂▂▂▂▂▂▂▂▂▃\n",
            "\u001b[34m\u001b[1mwandb\u001b[0m: \n",
            "\u001b[34m\u001b[1mwandb\u001b[0m: Run summary:\n",
            "\u001b[34m\u001b[1mwandb\u001b[0m: Average Fitness 0.01784\n",
            "\u001b[34m\u001b[1mwandb\u001b[0m:     Max Fitness 0.02499\n",
            "\u001b[34m\u001b[1mwandb\u001b[0m:     Min Fitness 0.0155\n",
            "\u001b[34m\u001b[1mwandb\u001b[0m: \n"
          ]
        },
        {
          "output_type": "stream",
          "name": "stderr",
          "text": [
            "\u001b[34m\u001b[1mwandb\u001b[0m: 🚀 View run \u001b[33m1\u001b[0m at: \u001b[34m\u001b[4mhttps://wandb.ai/babycar27/GeneticTSPSolution/runs/23v5zbrq\u001b[0m\n",
            "\u001b[34m\u001b[1mwandb\u001b[0m: Synced 4 W&B file(s), 0 media file(s), 0 artifact file(s) and 0 other file(s)\n"
          ]
        },
        {
          "output_type": "stream",
          "name": "stderr",
          "text": [
            "\u001b[34m\u001b[1mwandb\u001b[0m: Find logs at: \u001b[35m\u001b[1m./wandb/run-20231001_130926-23v5zbrq/logs\u001b[0m\n"
          ]
        },
        {
          "output_type": "stream",
          "name": "stderr",
          "text": [
            "[I 2023-10-01 13:09:47,303] Trial 1 finished with value: 40.0105143291476 and parameters: {'pop_size': 175, 'p_crossover': 0.8006092448410216, 'p_mutation': 0.10444491795896226, 'tournament_size': 2}. Best is trial 1 with value: 40.0105143291476.\n"
          ]
        },
        {
          "output_type": "stream",
          "name": "stderr",
          "text": [
            "\u001b[34m\u001b[1mwandb\u001b[0m: - Waiting for wandb.init()...\r"
          ]
        },
        {
          "output_type": "stream",
          "name": "stderr",
          "text": [
            "\u001b[34m\u001b[1mwandb\u001b[0m: \\ Waiting for wandb.init()...\r"
          ]
        },
        {
          "output_type": "stream",
          "name": "stderr",
          "text": [
            "\u001b[34m\u001b[1mwandb\u001b[0m: Tracking run with wandb version 0.15.11\n"
          ]
        },
        {
          "output_type": "stream",
          "name": "stderr",
          "text": [
            "\u001b[34m\u001b[1mwandb\u001b[0m: Run data is saved locally in \u001b[35m\u001b[1m/etc/noteable/project/wandb/run-20231001_130947-clh60bbo\u001b[0m\n",
            "\u001b[34m\u001b[1mwandb\u001b[0m: Run \u001b[1m`wandb offline`\u001b[0m to turn off syncing.\n"
          ]
        },
        {
          "output_type": "stream",
          "name": "stderr",
          "text": [
            "\u001b[34m\u001b[1mwandb\u001b[0m: Syncing run \u001b[33m2\u001b[0m\n"
          ]
        },
        {
          "output_type": "stream",
          "name": "stderr",
          "text": [
            "\u001b[34m\u001b[1mwandb\u001b[0m: ⭐️ View project at \u001b[34m\u001b[4mhttps://wandb.ai/babycar27/GeneticTSPSolution\u001b[0m\n"
          ]
        },
        {
          "output_type": "stream",
          "name": "stderr",
          "text": [
            "\u001b[34m\u001b[1mwandb\u001b[0m: 🚀 View run at \u001b[34m\u001b[4mhttps://wandb.ai/babycar27/GeneticTSPSolution/runs/clh60bbo\u001b[0m\n"
          ]
        },
        {
          "output_type": "stream",
          "name": "stderr",
          "text": [
            "\u001b[34m\u001b[1mwandb\u001b[0m: Waiting for W&B process to finish... \u001b[32m(success).\u001b[0m\n"
          ]
        },
        {
          "output_type": "stream",
          "name": "stderr",
          "text": [
            "\u001b[34m\u001b[1mwandb\u001b[0m: \n",
            "\u001b[34m\u001b[1mwandb\u001b[0m: Run history:\n",
            "\u001b[34m\u001b[1mwandb\u001b[0m: Average Fitness █▅▃▃▂▂▁▁▂▂▁▁▁▁▁▁▁▁▂▁▁▁▁▂▁▁▂▁▁▁▁▁▁▁▁▁▁▁▁▁\n",
            "\u001b[34m\u001b[1mwandb\u001b[0m:     Max Fitness ▅▅▂█▄▃▂▇▅▂▂▄▂▃▂▄▄▅▄▅▁▄▄▃▁▃▂▂▂▃▇▄▃▁▆▅▅▂▂▄\n",
            "\u001b[34m\u001b[1mwandb\u001b[0m:     Min Fitness █▆▂▂▁▁▁▁▁▁▁▁▁▁▁▁▁▁▁▁▁▁▁▁▁▁▁▁▁▁▁▁▁▁▁▁▁▁▁▁\n",
            "\u001b[34m\u001b[1mwandb\u001b[0m: \n",
            "\u001b[34m\u001b[1mwandb\u001b[0m: Run summary:\n",
            "\u001b[34m\u001b[1mwandb\u001b[0m: Average Fitness 0.01659\n",
            "\u001b[34m\u001b[1mwandb\u001b[0m:     Max Fitness 0.02472\n",
            "\u001b[34m\u001b[1mwandb\u001b[0m:     Min Fitness 0.01532\n",
            "\u001b[34m\u001b[1mwandb\u001b[0m: \n"
          ]
        },
        {
          "output_type": "stream",
          "name": "stderr",
          "text": [
            "\u001b[34m\u001b[1mwandb\u001b[0m: 🚀 View run \u001b[33m2\u001b[0m at: \u001b[34m\u001b[4mhttps://wandb.ai/babycar27/GeneticTSPSolution/runs/clh60bbo\u001b[0m\n",
            "\u001b[34m\u001b[1mwandb\u001b[0m: Synced 5 W&B file(s), 0 media file(s), 0 artifact file(s) and 0 other file(s)\n"
          ]
        },
        {
          "output_type": "stream",
          "name": "stderr",
          "text": [
            "\u001b[34m\u001b[1mwandb\u001b[0m: Find logs at: \u001b[35m\u001b[1m./wandb/run-20231001_130947-clh60bbo/logs\u001b[0m\n"
          ]
        },
        {
          "output_type": "stream",
          "name": "stderr",
          "text": [
            "[I 2023-10-01 13:10:09,086] Trial 2 finished with value: 40.45204952905742 and parameters: {'pop_size': 177, 'p_crossover': 0.9488395692305149, 'p_mutation': 0.18866686411173111, 'tournament_size': 6}. Best is trial 1 with value: 40.0105143291476.\n"
          ]
        },
        {
          "output_type": "stream",
          "name": "stderr",
          "text": [
            "\u001b[34m\u001b[1mwandb\u001b[0m: - Waiting for wandb.init()...\r"
          ]
        },
        {
          "output_type": "stream",
          "name": "stderr",
          "text": [
            "\u001b[34m\u001b[1mwandb\u001b[0m: \\ Waiting for wandb.init()...\r"
          ]
        },
        {
          "output_type": "stream",
          "name": "stderr",
          "text": [
            "\u001b[34m\u001b[1mwandb\u001b[0m: Tracking run with wandb version 0.15.11\n"
          ]
        },
        {
          "output_type": "stream",
          "name": "stderr",
          "text": [
            "\u001b[34m\u001b[1mwandb\u001b[0m: Run data is saved locally in \u001b[35m\u001b[1m/etc/noteable/project/wandb/run-20231001_131009-fp0zd1ag\u001b[0m\n",
            "\u001b[34m\u001b[1mwandb\u001b[0m: Run \u001b[1m`wandb offline`\u001b[0m to turn off syncing.\n"
          ]
        },
        {
          "output_type": "stream",
          "name": "stderr",
          "text": [
            "\u001b[34m\u001b[1mwandb\u001b[0m: Syncing run \u001b[33m3\u001b[0m\n"
          ]
        },
        {
          "output_type": "stream",
          "name": "stderr",
          "text": [
            "\u001b[34m\u001b[1mwandb\u001b[0m: ⭐️ View project at \u001b[34m\u001b[4mhttps://wandb.ai/babycar27/GeneticTSPSolution\u001b[0m\n"
          ]
        },
        {
          "output_type": "stream",
          "name": "stderr",
          "text": [
            "\u001b[34m\u001b[1mwandb\u001b[0m: 🚀 View run at \u001b[34m\u001b[4mhttps://wandb.ai/babycar27/GeneticTSPSolution/runs/fp0zd1ag\u001b[0m\n"
          ]
        },
        {
          "output_type": "stream",
          "name": "stderr",
          "text": [
            "\u001b[34m\u001b[1mwandb\u001b[0m: Waiting for W&B process to finish... \u001b[32m(success).\u001b[0m\n"
          ]
        },
        {
          "output_type": "stream",
          "name": "stderr",
          "text": [
            "\u001b[34m\u001b[1mwandb\u001b[0m: \n",
            "\u001b[34m\u001b[1mwandb\u001b[0m: Run history:\n",
            "\u001b[34m\u001b[1mwandb\u001b[0m: Average Fitness █▅▃▃▂▂▂▂▂▂▂▂▂▁▂▂▂▁▁▂▁▁▁▁▁▂▂▂▁▁▁▁▂▁▁▁▁▁▂▂\n",
            "\u001b[34m\u001b[1mwandb\u001b[0m:     Max Fitness ▄▃▆█▆▂▄▅▃▄▄▃▅▂▅▃▃▃▁▃▁▃▂▂▇▃▅▂▃▃▄▂█▃▂▃▂▄▆▃\n",
            "\u001b[34m\u001b[1mwandb\u001b[0m:     Min Fitness █▅▃▂▁▁▁▁▁▁▁▁▁▁▁▁▁▁▁▁▁▁▁▁▁▁▁▁▁▁▁▁▁▁▁▁▁▁▁▁\n",
            "\u001b[34m\u001b[1mwandb\u001b[0m: \n",
            "\u001b[34m\u001b[1mwandb\u001b[0m: Run summary:\n",
            "\u001b[34m\u001b[1mwandb\u001b[0m: Average Fitness 0.01672\n",
            "\u001b[34m\u001b[1mwandb\u001b[0m:     Max Fitness 0.02439\n",
            "\u001b[34m\u001b[1mwandb\u001b[0m:     Min Fitness 0.01532\n",
            "\u001b[34m\u001b[1mwandb\u001b[0m: \n"
          ]
        },
        {
          "output_type": "stream",
          "name": "stderr",
          "text": [
            "\u001b[34m\u001b[1mwandb\u001b[0m: 🚀 View run \u001b[33m3\u001b[0m at: \u001b[34m\u001b[4mhttps://wandb.ai/babycar27/GeneticTSPSolution/runs/fp0zd1ag\u001b[0m\n",
            "\u001b[34m\u001b[1mwandb\u001b[0m: Synced 5 W&B file(s), 0 media file(s), 0 artifact file(s) and 0 other file(s)\n"
          ]
        },
        {
          "output_type": "stream",
          "name": "stderr",
          "text": [
            "\u001b[34m\u001b[1mwandb\u001b[0m: Find logs at: \u001b[35m\u001b[1m./wandb/run-20231001_131009-fp0zd1ag/logs\u001b[0m\n"
          ]
        },
        {
          "output_type": "stream",
          "name": "stderr",
          "text": [
            "[I 2023-10-01 13:10:30,083] Trial 3 finished with value: 41.00174080339088 and parameters: {'pop_size': 180, 'p_crossover': 0.9098347473970353, 'p_mutation': 0.19475999455198273, 'tournament_size': 8}. Best is trial 1 with value: 40.0105143291476.\n"
          ]
        },
        {
          "output_type": "stream",
          "name": "stderr",
          "text": [
            "\u001b[34m\u001b[1mwandb\u001b[0m: - Waiting for wandb.init()...\r"
          ]
        },
        {
          "output_type": "stream",
          "name": "stderr",
          "text": [
            "\u001b[34m\u001b[1mwandb\u001b[0m: \\ Waiting for wandb.init()...\r"
          ]
        },
        {
          "output_type": "stream",
          "name": "stderr",
          "text": [
            "\u001b[34m\u001b[1mwandb\u001b[0m: Tracking run with wandb version 0.15.11\n"
          ]
        },
        {
          "output_type": "stream",
          "name": "stderr",
          "text": [
            "\u001b[34m\u001b[1mwandb\u001b[0m: Run data is saved locally in \u001b[35m\u001b[1m/etc/noteable/project/wandb/run-20231001_131030-6sv536z0\u001b[0m\n",
            "\u001b[34m\u001b[1mwandb\u001b[0m: Run \u001b[1m`wandb offline`\u001b[0m to turn off syncing.\n"
          ]
        },
        {
          "output_type": "stream",
          "name": "stderr",
          "text": [
            "\u001b[34m\u001b[1mwandb\u001b[0m: Syncing run \u001b[33m4\u001b[0m\n"
          ]
        },
        {
          "output_type": "stream",
          "name": "stderr",
          "text": [
            "\u001b[34m\u001b[1mwandb\u001b[0m: ⭐️ View project at \u001b[34m\u001b[4mhttps://wandb.ai/babycar27/GeneticTSPSolution\u001b[0m\n"
          ]
        },
        {
          "output_type": "stream",
          "name": "stderr",
          "text": [
            "\u001b[34m\u001b[1mwandb\u001b[0m: 🚀 View run at \u001b[34m\u001b[4mhttps://wandb.ai/babycar27/GeneticTSPSolution/runs/6sv536z0\u001b[0m\n"
          ]
        },
        {
          "output_type": "stream",
          "name": "stderr",
          "text": [
            "\u001b[34m\u001b[1mwandb\u001b[0m: Waiting for W&B process to finish... \u001b[32m(success).\u001b[0m\n"
          ]
        },
        {
          "output_type": "stream",
          "name": "stderr",
          "text": [
            "\u001b[34m\u001b[1mwandb\u001b[0m: \n",
            "\u001b[34m\u001b[1mwandb\u001b[0m: Run history:\n",
            "\u001b[34m\u001b[1mwandb\u001b[0m: Average Fitness █▅▃▂▂▁▁▂▁▂▁▂▁▁▁▁▁▁▂▁▂▁▁▁▂▁▂▁▂▁▁▁▁▁▂▂▁▁▁▁\n",
            "\u001b[34m\u001b[1mwandb\u001b[0m:     Max Fitness ▆▃▂▃▃▂▃▄▅█▃▂▂▁▂▂▄▅▃▁▂▃▂▄▃▃▆▅▃▃▁▁▂▃▃▃▄▂▅▃\n",
            "\u001b[34m\u001b[1mwandb\u001b[0m:     Min Fitness █▃▂▂▁▁▁▁▁▁▁▁▁▁▁▁▁▁▁▁▁▁▁▁▁▁▁▁▁▁▁▁▁▁▁▁▁▁▁▁\n",
            "\u001b[34m\u001b[1mwandb\u001b[0m: \n",
            "\u001b[34m\u001b[1mwandb\u001b[0m: Run summary:\n",
            "\u001b[34m\u001b[1mwandb\u001b[0m: Average Fitness 0.01653\n",
            "\u001b[34m\u001b[1mwandb\u001b[0m:     Max Fitness 0.02442\n",
            "\u001b[34m\u001b[1mwandb\u001b[0m:     Min Fitness 0.01532\n",
            "\u001b[34m\u001b[1mwandb\u001b[0m: \n"
          ]
        },
        {
          "output_type": "stream",
          "name": "stderr",
          "text": [
            "\u001b[34m\u001b[1mwandb\u001b[0m: 🚀 View run \u001b[33m4\u001b[0m at: \u001b[34m\u001b[4mhttps://wandb.ai/babycar27/GeneticTSPSolution/runs/6sv536z0\u001b[0m\n",
            "\u001b[34m\u001b[1mwandb\u001b[0m: Synced 5 W&B file(s), 0 media file(s), 0 artifact file(s) and 0 other file(s)\n"
          ]
        },
        {
          "output_type": "stream",
          "name": "stderr",
          "text": [
            "\u001b[34m\u001b[1mwandb\u001b[0m: Find logs at: \u001b[35m\u001b[1m./wandb/run-20231001_131030-6sv536z0/logs\u001b[0m\n"
          ]
        },
        {
          "output_type": "stream",
          "name": "stderr",
          "text": [
            "[I 2023-10-01 13:10:51,043] Trial 4 finished with value: 40.942397463183326 and parameters: {'pop_size': 144, 'p_crossover': 0.797778273420814, 'p_mutation': 0.08405832019371488, 'tournament_size': 9}. Best is trial 1 with value: 40.0105143291476.\n"
          ]
        },
        {
          "output_type": "stream",
          "name": "stderr",
          "text": [
            "\u001b[34m\u001b[1mwandb\u001b[0m: - Waiting for wandb.init()...\r"
          ]
        },
        {
          "output_type": "stream",
          "name": "stderr",
          "text": [
            "\u001b[34m\u001b[1mwandb\u001b[0m: \\ Waiting for wandb.init()...\r"
          ]
        },
        {
          "output_type": "stream",
          "name": "stderr",
          "text": [
            "\u001b[34m\u001b[1mwandb\u001b[0m: Tracking run with wandb version 0.15.11\n"
          ]
        },
        {
          "output_type": "stream",
          "name": "stderr",
          "text": [
            "\u001b[34m\u001b[1mwandb\u001b[0m: Run data is saved locally in \u001b[35m\u001b[1m/etc/noteable/project/wandb/run-20231001_131051-66vl0g9o\u001b[0m\n",
            "\u001b[34m\u001b[1mwandb\u001b[0m: Run \u001b[1m`wandb offline`\u001b[0m to turn off syncing.\n"
          ]
        },
        {
          "output_type": "stream",
          "name": "stderr",
          "text": [
            "\u001b[34m\u001b[1mwandb\u001b[0m: Syncing run \u001b[33m5\u001b[0m\n"
          ]
        },
        {
          "output_type": "stream",
          "name": "stderr",
          "text": [
            "\u001b[34m\u001b[1mwandb\u001b[0m: ⭐️ View project at \u001b[34m\u001b[4mhttps://wandb.ai/babycar27/GeneticTSPSolution\u001b[0m\n"
          ]
        },
        {
          "output_type": "stream",
          "name": "stderr",
          "text": [
            "\u001b[34m\u001b[1mwandb\u001b[0m: 🚀 View run at \u001b[34m\u001b[4mhttps://wandb.ai/babycar27/GeneticTSPSolution/runs/66vl0g9o\u001b[0m\n"
          ]
        },
        {
          "output_type": "stream",
          "name": "stderr",
          "text": [
            "\u001b[34m\u001b[1mwandb\u001b[0m: Waiting for W&B process to finish... \u001b[32m(success).\u001b[0m\n"
          ]
        },
        {
          "output_type": "stream",
          "name": "stderr",
          "text": [
            "\u001b[34m\u001b[1mwandb\u001b[0m: \n",
            "\u001b[34m\u001b[1mwandb\u001b[0m: Run history:\n",
            "\u001b[34m\u001b[1mwandb\u001b[0m: Average Fitness █▅▃▃▂▂▂▁▂▂▂▁▁▂▂▂▁▂▁▂▁▁▂▁▂▂▁▂▁▁▁▁▁▁▁▁▂▂▁▁\n",
            "\u001b[34m\u001b[1mwandb\u001b[0m:     Max Fitness ▅▅▃▅▄▃▃▄▃▇▂▂▃▅▂▄▁▃▂▄▂▂▆▃▃▅▄▄▃▃▄█▃▂▂▂▃▄▁▃\n",
            "\u001b[34m\u001b[1mwandb\u001b[0m:     Min Fitness █▄▂▂▂▂▂▂▂▁▁▁▁▁▁▁▁▁▁▁▁▁▁▁▁▁▁▁▁▁▁▁▁▁▁▁▁▁▁▁\n",
            "\u001b[34m\u001b[1mwandb\u001b[0m: \n",
            "\u001b[34m\u001b[1mwandb\u001b[0m: Run summary:\n",
            "\u001b[34m\u001b[1mwandb\u001b[0m: Average Fitness 0.01665\n",
            "\u001b[34m\u001b[1mwandb\u001b[0m:     Max Fitness 0.02361\n",
            "\u001b[34m\u001b[1mwandb\u001b[0m:     Min Fitness 0.01532\n",
            "\u001b[34m\u001b[1mwandb\u001b[0m: \n"
          ]
        },
        {
          "output_type": "stream",
          "name": "stderr",
          "text": [
            "\u001b[34m\u001b[1mwandb\u001b[0m: 🚀 View run \u001b[33m5\u001b[0m at: \u001b[34m\u001b[4mhttps://wandb.ai/babycar27/GeneticTSPSolution/runs/66vl0g9o\u001b[0m\n",
            "\u001b[34m\u001b[1mwandb\u001b[0m: Synced 5 W&B file(s), 0 media file(s), 0 artifact file(s) and 0 other file(s)\n"
          ]
        },
        {
          "output_type": "stream",
          "name": "stderr",
          "text": [
            "\u001b[34m\u001b[1mwandb\u001b[0m: Find logs at: \u001b[35m\u001b[1m./wandb/run-20231001_131051-66vl0g9o/logs\u001b[0m\n"
          ]
        },
        {
          "output_type": "stream",
          "name": "stderr",
          "text": [
            "[I 2023-10-01 13:11:12,008] Trial 5 finished with value: 42.3572689169038 and parameters: {'pop_size': 123, 'p_crossover': 0.9235549331657384, 'p_mutation': 0.1430735107088064, 'tournament_size': 8}. Best is trial 1 with value: 40.0105143291476.\n"
          ]
        },
        {
          "output_type": "stream",
          "name": "stderr",
          "text": [
            "\u001b[34m\u001b[1mwandb\u001b[0m: - Waiting for wandb.init()...\r"
          ]
        },
        {
          "output_type": "stream",
          "name": "stderr",
          "text": [
            "\u001b[34m\u001b[1mwandb\u001b[0m: \\ Waiting for wandb.init()...\r"
          ]
        },
        {
          "output_type": "stream",
          "name": "stderr",
          "text": [
            "\u001b[34m\u001b[1mwandb\u001b[0m: Tracking run with wandb version 0.15.11\n"
          ]
        },
        {
          "output_type": "stream",
          "name": "stderr",
          "text": [
            "\u001b[34m\u001b[1mwandb\u001b[0m: Run data is saved locally in \u001b[35m\u001b[1m/etc/noteable/project/wandb/run-20231001_131112-79lbjwgy\u001b[0m\n",
            "\u001b[34m\u001b[1mwandb\u001b[0m: Run \u001b[1m`wandb offline`\u001b[0m to turn off syncing.\n"
          ]
        },
        {
          "output_type": "stream",
          "name": "stderr",
          "text": [
            "\u001b[34m\u001b[1mwandb\u001b[0m: Syncing run \u001b[33m6\u001b[0m\n"
          ]
        },
        {
          "output_type": "stream",
          "name": "stderr",
          "text": [
            "\u001b[34m\u001b[1mwandb\u001b[0m: ⭐️ View project at \u001b[34m\u001b[4mhttps://wandb.ai/babycar27/GeneticTSPSolution\u001b[0m\n"
          ]
        },
        {
          "output_type": "stream",
          "name": "stderr",
          "text": [
            "\u001b[34m\u001b[1mwandb\u001b[0m: 🚀 View run at \u001b[34m\u001b[4mhttps://wandb.ai/babycar27/GeneticTSPSolution/runs/79lbjwgy\u001b[0m\n"
          ]
        },
        {
          "output_type": "stream",
          "name": "stderr",
          "text": [
            "\u001b[34m\u001b[1mwandb\u001b[0m: Waiting for W&B process to finish... \u001b[32m(success).\u001b[0m\n"
          ]
        },
        {
          "output_type": "stream",
          "name": "stderr",
          "text": [
            "\u001b[34m\u001b[1mwandb\u001b[0m: \n",
            "\u001b[34m\u001b[1mwandb\u001b[0m: Run history:\n",
            "\u001b[34m\u001b[1mwandb\u001b[0m: Average Fitness █▇▄▄▃▃▂▂▂▂▂▂▂▂▃▂▁▂▁▂▃▂▂▂▂▂▂▂▂▂▂▂▂▂▂▂▁▁▁▂\n",
            "\u001b[34m\u001b[1mwandb\u001b[0m:     Max Fitness ▄▃▃▄▆▃▇▄▃▅▄▅▅▅▇▄▁▆▃▂▆▄▄▄▂▃▃▂▃▃█▄▄▅▄▃▂█▃▃\n",
            "\u001b[34m\u001b[1mwandb\u001b[0m:     Min Fitness █▆▅▃▃▃▃▃▃▃▂▁▂▂▂▃▂▂▃▂▃▃▂▃▂▂▃▃▁▃▃▃▂▂▂▂▁▁▁▁\n",
            "\u001b[34m\u001b[1mwandb\u001b[0m: \n",
            "\u001b[34m\u001b[1mwandb\u001b[0m: Run summary:\n",
            "\u001b[34m\u001b[1mwandb\u001b[0m: Average Fitness 0.01792\n",
            "\u001b[34m\u001b[1mwandb\u001b[0m:     Max Fitness 0.02416\n",
            "\u001b[34m\u001b[1mwandb\u001b[0m:     Min Fitness 0.01535\n",
            "\u001b[34m\u001b[1mwandb\u001b[0m: \n"
          ]
        },
        {
          "output_type": "stream",
          "name": "stderr",
          "text": [
            "\u001b[34m\u001b[1mwandb\u001b[0m: 🚀 View run \u001b[33m6\u001b[0m at: \u001b[34m\u001b[4mhttps://wandb.ai/babycar27/GeneticTSPSolution/runs/79lbjwgy\u001b[0m\n",
            "\u001b[34m\u001b[1mwandb\u001b[0m: Synced 5 W&B file(s), 0 media file(s), 0 artifact file(s) and 0 other file(s)\n"
          ]
        },
        {
          "output_type": "stream",
          "name": "stderr",
          "text": [
            "\u001b[34m\u001b[1mwandb\u001b[0m: Find logs at: \u001b[35m\u001b[1m./wandb/run-20231001_131112-79lbjwgy/logs\u001b[0m\n"
          ]
        },
        {
          "output_type": "stream",
          "name": "stderr",
          "text": [
            "[I 2023-10-01 13:11:32,988] Trial 6 finished with value: 41.38681416271543 and parameters: {'pop_size': 168, 'p_crossover': 0.9607995570658131, 'p_mutation': 0.08139358339081133, 'tournament_size': 2}. Best is trial 1 with value: 40.0105143291476.\n"
          ]
        },
        {
          "output_type": "stream",
          "name": "stderr",
          "text": [
            "\u001b[34m\u001b[1mwandb\u001b[0m: - Waiting for wandb.init()...\r"
          ]
        },
        {
          "output_type": "stream",
          "name": "stderr",
          "text": [
            "\u001b[34m\u001b[1mwandb\u001b[0m: \\ Waiting for wandb.init()...\r"
          ]
        },
        {
          "output_type": "stream",
          "name": "stderr",
          "text": [
            "\u001b[34m\u001b[1mwandb\u001b[0m: Tracking run with wandb version 0.15.11\n"
          ]
        },
        {
          "output_type": "stream",
          "name": "stderr",
          "text": [
            "\u001b[34m\u001b[1mwandb\u001b[0m: Run data is saved locally in \u001b[35m\u001b[1m/etc/noteable/project/wandb/run-20231001_131133-nyyz9hku\u001b[0m\n",
            "\u001b[34m\u001b[1mwandb\u001b[0m: Run \u001b[1m`wandb offline`\u001b[0m to turn off syncing.\n"
          ]
        },
        {
          "output_type": "stream",
          "name": "stderr",
          "text": [
            "\u001b[34m\u001b[1mwandb\u001b[0m: Syncing run \u001b[33m7\u001b[0m\n"
          ]
        },
        {
          "output_type": "stream",
          "name": "stderr",
          "text": [
            "\u001b[34m\u001b[1mwandb\u001b[0m: ⭐️ View project at \u001b[34m\u001b[4mhttps://wandb.ai/babycar27/GeneticTSPSolution\u001b[0m\n"
          ]
        },
        {
          "output_type": "stream",
          "name": "stderr",
          "text": [
            "\u001b[34m\u001b[1mwandb\u001b[0m: 🚀 View run at \u001b[34m\u001b[4mhttps://wandb.ai/babycar27/GeneticTSPSolution/runs/nyyz9hku\u001b[0m\n"
          ]
        },
        {
          "output_type": "stream",
          "name": "stderr",
          "text": [
            "\u001b[34m\u001b[1mwandb\u001b[0m: Waiting for W&B process to finish... \u001b[32m(success).\u001b[0m\n"
          ]
        },
        {
          "output_type": "stream",
          "name": "stderr",
          "text": [
            "\u001b[34m\u001b[1mwandb\u001b[0m: \n",
            "\u001b[34m\u001b[1mwandb\u001b[0m: Run history:\n",
            "\u001b[34m\u001b[1mwandb\u001b[0m: Average Fitness █▅▃▂▂▂▂▁▁▁▁▁▂▁▁▁▁▁▁▂▂▂▂▂▁▁▁▁▁▂▂▁▁▁▁▂▂▂▂▂\n",
            "\u001b[34m\u001b[1mwandb\u001b[0m:     Max Fitness ▄▄▃▃▃▄▂▃▆▂▅▂▄▆▄▂▅▂▄▂▂█▄▂▃▅▄▂▅▂▃▂▁▂▂▃▂▂▅▄\n",
            "\u001b[34m\u001b[1mwandb\u001b[0m:     Min Fitness █▂▁▁▁▁▁▁▁▁▁▁▁▁▁▁▁▁▁▁▁▁▁▁▁▁▁▁▁▁▁▁▁▁▁▁▁▁▁▁\n",
            "\u001b[34m\u001b[1mwandb\u001b[0m: \n",
            "\u001b[34m\u001b[1mwandb\u001b[0m: Run summary:\n",
            "\u001b[34m\u001b[1mwandb\u001b[0m: Average Fitness 0.01685\n",
            "\u001b[34m\u001b[1mwandb\u001b[0m:     Max Fitness 0.02524\n",
            "\u001b[34m\u001b[1mwandb\u001b[0m:     Min Fitness 0.01535\n",
            "\u001b[34m\u001b[1mwandb\u001b[0m: \n"
          ]
        },
        {
          "output_type": "stream",
          "name": "stderr",
          "text": [
            "\u001b[34m\u001b[1mwandb\u001b[0m: 🚀 View run \u001b[33m7\u001b[0m at: \u001b[34m\u001b[4mhttps://wandb.ai/babycar27/GeneticTSPSolution/runs/nyyz9hku\u001b[0m\n",
            "\u001b[34m\u001b[1mwandb\u001b[0m: Synced 5 W&B file(s), 0 media file(s), 0 artifact file(s) and 0 other file(s)\n"
          ]
        },
        {
          "output_type": "stream",
          "name": "stderr",
          "text": [
            "\u001b[34m\u001b[1mwandb\u001b[0m: Find logs at: \u001b[35m\u001b[1m./wandb/run-20231001_131133-nyyz9hku/logs\u001b[0m\n"
          ]
        },
        {
          "output_type": "stream",
          "name": "stderr",
          "text": [
            "[I 2023-10-01 13:11:54,749] Trial 7 finished with value: 39.62512730159921 and parameters: {'pop_size': 130, 'p_crossover': 0.7805918448384759, 'p_mutation': 0.1964672961263591, 'tournament_size': 10}. Best is trial 7 with value: 39.62512730159921.\n"
          ]
        },
        {
          "output_type": "stream",
          "name": "stderr",
          "text": [
            "\u001b[34m\u001b[1mwandb\u001b[0m: - Waiting for wandb.init()...\r"
          ]
        },
        {
          "output_type": "stream",
          "name": "stderr",
          "text": [
            "\u001b[34m\u001b[1mwandb\u001b[0m: \\ Waiting for wandb.init()...\r"
          ]
        },
        {
          "output_type": "stream",
          "name": "stderr",
          "text": [
            "\u001b[34m\u001b[1mwandb\u001b[0m: Tracking run with wandb version 0.15.11\n"
          ]
        },
        {
          "output_type": "stream",
          "name": "stderr",
          "text": [
            "\u001b[34m\u001b[1mwandb\u001b[0m: Run data is saved locally in \u001b[35m\u001b[1m/etc/noteable/project/wandb/run-20231001_131154-37uhajgd\u001b[0m\n",
            "\u001b[34m\u001b[1mwandb\u001b[0m: Run \u001b[1m`wandb offline`\u001b[0m to turn off syncing.\n"
          ]
        },
        {
          "output_type": "stream",
          "name": "stderr",
          "text": [
            "\u001b[34m\u001b[1mwandb\u001b[0m: Syncing run \u001b[33m8\u001b[0m\n"
          ]
        },
        {
          "output_type": "stream",
          "name": "stderr",
          "text": [
            "\u001b[34m\u001b[1mwandb\u001b[0m: ⭐️ View project at \u001b[34m\u001b[4mhttps://wandb.ai/babycar27/GeneticTSPSolution\u001b[0m\n"
          ]
        },
        {
          "output_type": "stream",
          "name": "stderr",
          "text": [
            "\u001b[34m\u001b[1mwandb\u001b[0m: 🚀 View run at \u001b[34m\u001b[4mhttps://wandb.ai/babycar27/GeneticTSPSolution/runs/37uhajgd\u001b[0m\n"
          ]
        },
        {
          "output_type": "stream",
          "name": "stderr",
          "text": [
            "\u001b[34m\u001b[1mwandb\u001b[0m: Waiting for W&B process to finish... \u001b[32m(success).\u001b[0m\n"
          ]
        },
        {
          "output_type": "stream",
          "name": "stderr",
          "text": [
            "\u001b[34m\u001b[1mwandb\u001b[0m: \n",
            "\u001b[34m\u001b[1mwandb\u001b[0m: Run history:\n",
            "\u001b[34m\u001b[1mwandb\u001b[0m: Average Fitness █▇▅▄▃▃▃▃▃▂▂▁▂▁▁▂▂▂▁▁▁▃▃▂▁▁▁▁▃▁▂▂▂▂▂▂▂▂▂▂\n",
            "\u001b[34m\u001b[1mwandb\u001b[0m:     Max Fitness ▇▃▅▆▂▆▃▄█▄▂▂▃▂▃▄▂▂▃▄▅▂▅▂▄▆▃▅█▁▁▃▂▇▃▂▄▇▂▇\n",
            "\u001b[34m\u001b[1mwandb\u001b[0m:     Min Fitness █▆▆▆▄▄▄▄▂▂▂▂▂▂▂▂▂▂▂▁▁▂▂▂▁▁▁▁▁▁▁▁▁▁▁▄▄▄▄▁\n",
            "\u001b[34m\u001b[1mwandb\u001b[0m: \n",
            "\u001b[34m\u001b[1mwandb\u001b[0m: Run summary:\n",
            "\u001b[34m\u001b[1mwandb\u001b[0m: Average Fitness 0.01799\n",
            "\u001b[34m\u001b[1mwandb\u001b[0m:     Max Fitness 0.02549\n",
            "\u001b[34m\u001b[1mwandb\u001b[0m:     Min Fitness 0.01544\n",
            "\u001b[34m\u001b[1mwandb\u001b[0m: \n"
          ]
        },
        {
          "output_type": "stream",
          "name": "stderr",
          "text": [
            "\u001b[34m\u001b[1mwandb\u001b[0m: 🚀 View run \u001b[33m8\u001b[0m at: \u001b[34m\u001b[4mhttps://wandb.ai/babycar27/GeneticTSPSolution/runs/37uhajgd\u001b[0m\n",
            "\u001b[34m\u001b[1mwandb\u001b[0m: Synced 5 W&B file(s), 0 media file(s), 0 artifact file(s) and 0 other file(s)\n"
          ]
        },
        {
          "output_type": "stream",
          "name": "stderr",
          "text": [
            "\u001b[34m\u001b[1mwandb\u001b[0m: Find logs at: \u001b[35m\u001b[1m./wandb/run-20231001_131154-37uhajgd/logs\u001b[0m\n"
          ]
        },
        {
          "output_type": "stream",
          "name": "stderr",
          "text": [
            "[I 2023-10-01 13:12:15,748] Trial 8 finished with value: 39.22918412575097 and parameters: {'pop_size': 61, 'p_crossover': 0.6419570750792016, 'p_mutation': 0.08507876283811751, 'tournament_size': 2}. Best is trial 8 with value: 39.22918412575097.\n"
          ]
        },
        {
          "output_type": "stream",
          "name": "stderr",
          "text": [
            "\u001b[34m\u001b[1mwandb\u001b[0m: - Waiting for wandb.init()...\r"
          ]
        },
        {
          "output_type": "stream",
          "name": "stderr",
          "text": [
            "\u001b[34m\u001b[1mwandb\u001b[0m: \\ Waiting for wandb.init()...\r"
          ]
        },
        {
          "output_type": "stream",
          "name": "stderr",
          "text": [
            "\u001b[34m\u001b[1mwandb\u001b[0m: Tracking run with wandb version 0.15.11\n"
          ]
        },
        {
          "output_type": "stream",
          "name": "stderr",
          "text": [
            "\u001b[34m\u001b[1mwandb\u001b[0m: Run data is saved locally in \u001b[35m\u001b[1m/etc/noteable/project/wandb/run-20231001_131215-le188r31\u001b[0m\n",
            "\u001b[34m\u001b[1mwandb\u001b[0m: Run \u001b[1m`wandb offline`\u001b[0m to turn off syncing.\n"
          ]
        },
        {
          "output_type": "stream",
          "name": "stderr",
          "text": [
            "\u001b[34m\u001b[1mwandb\u001b[0m: Syncing run \u001b[33m9\u001b[0m\n"
          ]
        },
        {
          "output_type": "stream",
          "name": "stderr",
          "text": [
            "\u001b[34m\u001b[1mwandb\u001b[0m: ⭐️ View project at \u001b[34m\u001b[4mhttps://wandb.ai/babycar27/GeneticTSPSolution\u001b[0m\n"
          ]
        },
        {
          "output_type": "stream",
          "name": "stderr",
          "text": [
            "\u001b[34m\u001b[1mwandb\u001b[0m: 🚀 View run at \u001b[34m\u001b[4mhttps://wandb.ai/babycar27/GeneticTSPSolution/runs/le188r31\u001b[0m\n"
          ]
        },
        {
          "output_type": "stream",
          "name": "stderr",
          "text": [
            "\u001b[34m\u001b[1mwandb\u001b[0m: Waiting for W&B process to finish... \u001b[32m(success).\u001b[0m\n"
          ]
        },
        {
          "output_type": "stream",
          "name": "stderr",
          "text": [
            "\u001b[34m\u001b[1mwandb\u001b[0m: \n",
            "\u001b[34m\u001b[1mwandb\u001b[0m: Run history:\n",
            "\u001b[34m\u001b[1mwandb\u001b[0m: Average Fitness █▅▄▃▃▂▃▂▂▁▂▁▂▂▂▂▂▂▁▂▂▁▂▂▁▂▂▂▂▂▁▂▁▁▂▂▂▂▂▁\n",
            "\u001b[34m\u001b[1mwandb\u001b[0m:     Max Fitness ▅▃█▃▅▄▄▄▃▂▄▁▅▅▇▁▅▇▄▂▆▃▃▄▄▅▃█▃▂▄▃▁▅▂▃▅▅▅▂\n",
            "\u001b[34m\u001b[1mwandb\u001b[0m:     Min Fitness █▆▃▅▄▄▂▂▁▁▁▁▁▁▁▁▁▁▁▁▁▁▁▁▁▁▁▁▁▁▁▁▁▁▁▁▁▁▁▁\n",
            "\u001b[34m\u001b[1mwandb\u001b[0m: \n",
            "\u001b[34m\u001b[1mwandb\u001b[0m: Run summary:\n",
            "\u001b[34m\u001b[1mwandb\u001b[0m: Average Fitness 0.01648\n",
            "\u001b[34m\u001b[1mwandb\u001b[0m:     Max Fitness 0.02184\n",
            "\u001b[34m\u001b[1mwandb\u001b[0m:     Min Fitness 0.01532\n",
            "\u001b[34m\u001b[1mwandb\u001b[0m: \n"
          ]
        },
        {
          "output_type": "stream",
          "name": "stderr",
          "text": [
            "\u001b[34m\u001b[1mwandb\u001b[0m: 🚀 View run \u001b[33m9\u001b[0m at: \u001b[34m\u001b[4mhttps://wandb.ai/babycar27/GeneticTSPSolution/runs/le188r31\u001b[0m\n",
            "\u001b[34m\u001b[1mwandb\u001b[0m: Synced 5 W&B file(s), 0 media file(s), 0 artifact file(s) and 0 other file(s)\n"
          ]
        },
        {
          "output_type": "stream",
          "name": "stderr",
          "text": [
            "\u001b[34m\u001b[1mwandb\u001b[0m: Find logs at: \u001b[35m\u001b[1m./wandb/run-20231001_131215-le188r31/logs\u001b[0m\n"
          ]
        },
        {
          "output_type": "stream",
          "name": "stderr",
          "text": [
            "[I 2023-10-01 13:12:36,701] Trial 9 finished with value: 45.79316090484431 and parameters: {'pop_size': 87, 'p_crossover': 0.5748557669178305, 'p_mutation': 0.1501663055593582, 'tournament_size': 5}. Best is trial 8 with value: 39.22918412575097.\n"
          ]
        },
        {
          "output_type": "stream",
          "name": "stderr",
          "text": [
            "\u001b[34m\u001b[1mwandb\u001b[0m: - Waiting for wandb.init()...\r"
          ]
        },
        {
          "output_type": "stream",
          "name": "stderr",
          "text": [
            "\u001b[34m\u001b[1mwandb\u001b[0m: \\ Waiting for wandb.init()...\r"
          ]
        },
        {
          "output_type": "stream",
          "name": "stderr",
          "text": [
            "\u001b[34m\u001b[1mwandb\u001b[0m: Tracking run with wandb version 0.15.11\n"
          ]
        },
        {
          "output_type": "stream",
          "name": "stderr",
          "text": [
            "\u001b[34m\u001b[1mwandb\u001b[0m: Run data is saved locally in \u001b[35m\u001b[1m/etc/noteable/project/wandb/run-20231001_131236-yq4cg5ep\u001b[0m\n",
            "\u001b[34m\u001b[1mwandb\u001b[0m: Run \u001b[1m`wandb offline`\u001b[0m to turn off syncing.\n"
          ]
        },
        {
          "output_type": "stream",
          "name": "stderr",
          "text": [
            "\u001b[34m\u001b[1mwandb\u001b[0m: Syncing run \u001b[33m10\u001b[0m\n"
          ]
        },
        {
          "output_type": "stream",
          "name": "stderr",
          "text": [
            "\u001b[34m\u001b[1mwandb\u001b[0m: ⭐️ View project at \u001b[34m\u001b[4mhttps://wandb.ai/babycar27/GeneticTSPSolution\u001b[0m\n"
          ]
        },
        {
          "output_type": "stream",
          "name": "stderr",
          "text": [
            "\u001b[34m\u001b[1mwandb\u001b[0m: 🚀 View run at \u001b[34m\u001b[4mhttps://wandb.ai/babycar27/GeneticTSPSolution/runs/yq4cg5ep\u001b[0m\n"
          ]
        },
        {
          "output_type": "stream",
          "name": "stderr",
          "text": [
            "\u001b[34m\u001b[1mwandb\u001b[0m: Waiting for W&B process to finish... \u001b[32m(success).\u001b[0m\n"
          ]
        },
        {
          "output_type": "stream",
          "name": "stderr",
          "text": [
            "\u001b[34m\u001b[1mwandb\u001b[0m: \n",
            "\u001b[34m\u001b[1mwandb\u001b[0m: Run history:\n",
            "\u001b[34m\u001b[1mwandb\u001b[0m: Average Fitness █▅▄▃▃▃▂▃▃▂▂▂▁▂▁▂▂▂▂▂▂▂▂▁▂▂▁▁▂▁▁▁▂▂▂▂▂▁▂▂\n",
            "\u001b[34m\u001b[1mwandb\u001b[0m:     Max Fitness ▆▄▃▆▆▆▄▃▅▆▃▂▄▃▂▄▄▅▄▄▆▂▅▄▂▄▂▅▃▅▁█▄▃▅▃▅▃▆▄\n",
            "\u001b[34m\u001b[1mwandb\u001b[0m:     Min Fitness █▇▅▃▃▃▁▁▁▁▁▁▁▁▁▁▁▁▁▁▁▁▁▁▁▁▁▁▁▁▁▁▁▁▁▁▁▁▁▁\n",
            "\u001b[34m\u001b[1mwandb\u001b[0m: \n",
            "\u001b[34m\u001b[1mwandb\u001b[0m: Run summary:\n",
            "\u001b[34m\u001b[1mwandb\u001b[0m: Average Fitness 0.01693\n",
            "\u001b[34m\u001b[1mwandb\u001b[0m:     Max Fitness 0.02322\n",
            "\u001b[34m\u001b[1mwandb\u001b[0m:     Min Fitness 0.01532\n",
            "\u001b[34m\u001b[1mwandb\u001b[0m: \n"
          ]
        },
        {
          "output_type": "stream",
          "name": "stderr",
          "text": [
            "\u001b[34m\u001b[1mwandb\u001b[0m: 🚀 View run \u001b[33m10\u001b[0m at: \u001b[34m\u001b[4mhttps://wandb.ai/babycar27/GeneticTSPSolution/runs/yq4cg5ep\u001b[0m\n",
            "\u001b[34m\u001b[1mwandb\u001b[0m: Synced 5 W&B file(s), 0 media file(s), 0 artifact file(s) and 0 other file(s)\n"
          ]
        },
        {
          "output_type": "stream",
          "name": "stderr",
          "text": [
            "\u001b[34m\u001b[1mwandb\u001b[0m: Find logs at: \u001b[35m\u001b[1m./wandb/run-20231001_131236-yq4cg5ep/logs\u001b[0m\n"
          ]
        },
        {
          "output_type": "stream",
          "name": "stderr",
          "text": [
            "[I 2023-10-01 13:12:57,821] Trial 10 finished with value: 43.061228523591794 and parameters: {'pop_size': 60, 'p_crossover': 0.6131532776573643, 'p_mutation': 0.014851088131166118, 'tournament_size': 4}. Best is trial 8 with value: 39.22918412575097.\n"
          ]
        },
        {
          "output_type": "stream",
          "name": "stderr",
          "text": [
            "\u001b[34m\u001b[1mwandb\u001b[0m: - Waiting for wandb.init()...\r"
          ]
        },
        {
          "output_type": "stream",
          "name": "stderr",
          "text": [
            "\u001b[34m\u001b[1mwandb\u001b[0m: \\ Waiting for wandb.init()...\r"
          ]
        },
        {
          "output_type": "stream",
          "name": "stderr",
          "text": [
            "\u001b[34m\u001b[1mwandb\u001b[0m: Tracking run with wandb version 0.15.11\n"
          ]
        },
        {
          "output_type": "stream",
          "name": "stderr",
          "text": [
            "\u001b[34m\u001b[1mwandb\u001b[0m: Run data is saved locally in \u001b[35m\u001b[1m/etc/noteable/project/wandb/run-20231001_131257-n1z8yhri\u001b[0m\n",
            "\u001b[34m\u001b[1mwandb\u001b[0m: Run \u001b[1m`wandb offline`\u001b[0m to turn off syncing.\n"
          ]
        },
        {
          "output_type": "stream",
          "name": "stderr",
          "text": [
            "\u001b[34m\u001b[1mwandb\u001b[0m: Syncing run \u001b[33m11\u001b[0m\n"
          ]
        },
        {
          "output_type": "stream",
          "name": "stderr",
          "text": [
            "\u001b[34m\u001b[1mwandb\u001b[0m: ⭐️ View project at \u001b[34m\u001b[4mhttps://wandb.ai/babycar27/GeneticTSPSolution\u001b[0m\n"
          ]
        },
        {
          "output_type": "stream",
          "name": "stderr",
          "text": [
            "\u001b[34m\u001b[1mwandb\u001b[0m: 🚀 View run at \u001b[34m\u001b[4mhttps://wandb.ai/babycar27/GeneticTSPSolution/runs/n1z8yhri\u001b[0m\n"
          ]
        },
        {
          "output_type": "stream",
          "name": "stderr",
          "text": [
            "\u001b[34m\u001b[1mwandb\u001b[0m: Waiting for W&B process to finish... \u001b[32m(success).\u001b[0m\n"
          ]
        },
        {
          "output_type": "stream",
          "name": "stderr",
          "text": [
            "\u001b[34m\u001b[1mwandb\u001b[0m: \n",
            "\u001b[34m\u001b[1mwandb\u001b[0m: Run history:\n",
            "\u001b[34m\u001b[1mwandb\u001b[0m: Average Fitness █▆▄▃▂▁▁▁▂▁▂▁▂▂▃▂▂▁▂▁▂▂▂▂▂▂▂▂▂▂▂▂▂▁▂▂▂▂▁▂\n",
            "\u001b[34m\u001b[1mwandb\u001b[0m:     Max Fitness ▅▄▅▇▇▂▄▂▁▃▅▃▂▇▅▄▅▇▄▂▃█▇▂▅▆▃▂▆█▁▆▅▃▃▄▆▁▃▅\n",
            "\u001b[34m\u001b[1mwandb\u001b[0m:     Min Fitness █▆▁▁▁▁▁▁▁▁▁▁▁▁▁▁▁▁▁▁▁▁▁▁▁▁▁▁▁▁▁▁▁▁▁▁▁▁▁▁\n",
            "\u001b[34m\u001b[1mwandb\u001b[0m: \n",
            "\u001b[34m\u001b[1mwandb\u001b[0m: Run summary:\n",
            "\u001b[34m\u001b[1mwandb\u001b[0m: Average Fitness 0.01662\n",
            "\u001b[34m\u001b[1mwandb\u001b[0m:     Max Fitness 0.02376\n",
            "\u001b[34m\u001b[1mwandb\u001b[0m:     Min Fitness 0.01532\n",
            "\u001b[34m\u001b[1mwandb\u001b[0m: \n"
          ]
        },
        {
          "output_type": "stream",
          "name": "stderr",
          "text": [
            "\u001b[34m\u001b[1mwandb\u001b[0m: 🚀 View run \u001b[33m11\u001b[0m at: \u001b[34m\u001b[4mhttps://wandb.ai/babycar27/GeneticTSPSolution/runs/n1z8yhri\u001b[0m\n",
            "\u001b[34m\u001b[1mwandb\u001b[0m: Synced 5 W&B file(s), 0 media file(s), 0 artifact file(s) and 0 other file(s)\n"
          ]
        },
        {
          "output_type": "stream",
          "name": "stderr",
          "text": [
            "\u001b[34m\u001b[1mwandb\u001b[0m: Find logs at: \u001b[35m\u001b[1m./wandb/run-20231001_131257-n1z8yhri/logs\u001b[0m\n"
          ]
        },
        {
          "output_type": "stream",
          "name": "stderr",
          "text": [
            "[I 2023-10-01 13:13:18,793] Trial 11 finished with value: 42.08982707145792 and parameters: {'pop_size': 59, 'p_crossover': 0.6804408704364403, 'p_mutation': 0.16132602448391498, 'tournament_size': 10}. Best is trial 8 with value: 39.22918412575097.\n"
          ]
        },
        {
          "output_type": "stream",
          "name": "stderr",
          "text": [
            "\u001b[34m\u001b[1mwandb\u001b[0m: - Waiting for wandb.init()...\r"
          ]
        },
        {
          "output_type": "stream",
          "name": "stderr",
          "text": [
            "\u001b[34m\u001b[1mwandb\u001b[0m: \\ Waiting for wandb.init()...\r"
          ]
        },
        {
          "output_type": "stream",
          "name": "stderr",
          "text": [
            "\u001b[34m\u001b[1mwandb\u001b[0m: Tracking run with wandb version 0.15.11\n"
          ]
        },
        {
          "output_type": "stream",
          "name": "stderr",
          "text": [
            "\u001b[34m\u001b[1mwandb\u001b[0m: Run data is saved locally in \u001b[35m\u001b[1m/etc/noteable/project/wandb/run-20231001_131318-46uwqeyl\u001b[0m\n",
            "\u001b[34m\u001b[1mwandb\u001b[0m: Run \u001b[1m`wandb offline`\u001b[0m to turn off syncing.\n"
          ]
        },
        {
          "output_type": "stream",
          "name": "stderr",
          "text": [
            "\u001b[34m\u001b[1mwandb\u001b[0m: Syncing run \u001b[33m12\u001b[0m\n"
          ]
        },
        {
          "output_type": "stream",
          "name": "stderr",
          "text": [
            "\u001b[34m\u001b[1mwandb\u001b[0m: ⭐️ View project at \u001b[34m\u001b[4mhttps://wandb.ai/babycar27/GeneticTSPSolution\u001b[0m\n"
          ]
        },
        {
          "output_type": "stream",
          "name": "stderr",
          "text": [
            "\u001b[34m\u001b[1mwandb\u001b[0m: 🚀 View run at \u001b[34m\u001b[4mhttps://wandb.ai/babycar27/GeneticTSPSolution/runs/46uwqeyl\u001b[0m\n"
          ]
        },
        {
          "output_type": "stream",
          "name": "stderr",
          "text": [
            "\u001b[34m\u001b[1mwandb\u001b[0m: Waiting for W&B process to finish... \u001b[32m(success).\u001b[0m\n"
          ]
        },
        {
          "output_type": "stream",
          "name": "stderr",
          "text": [
            "\u001b[34m\u001b[1mwandb\u001b[0m: \n",
            "\u001b[34m\u001b[1mwandb\u001b[0m: Run history:\n",
            "\u001b[34m\u001b[1mwandb\u001b[0m: Average Fitness █▅▄▄▃▂▂▃▂▂▂▂▂▂▁▁▁▂▂▂▁▁▁▂▂▂▁▂▂▂▂▁▂▂▂▂▁▁▂▁\n",
            "\u001b[34m\u001b[1mwandb\u001b[0m:     Max Fitness █▄▅▄▂▆▃▆▃▂▄▄▆▃▁▂▄▃▂▅▃▄▃▇▂▂▂▁▃▃▃▁▂▃▄▃▃▂▃▁\n",
            "\u001b[34m\u001b[1mwandb\u001b[0m:     Min Fitness █▄▄▄▂▂▁▁▁▁▁▁▁▁▁▁▁▁▁▁▁▁▁▁▁▁▁▁▁▁▁▁▁▁▁▁▁▁▁▁\n",
            "\u001b[34m\u001b[1mwandb\u001b[0m: \n",
            "\u001b[34m\u001b[1mwandb\u001b[0m: Run summary:\n",
            "\u001b[34m\u001b[1mwandb\u001b[0m: Average Fitness 0.01664\n",
            "\u001b[34m\u001b[1mwandb\u001b[0m:     Max Fitness 0.02192\n",
            "\u001b[34m\u001b[1mwandb\u001b[0m:     Min Fitness 0.01532\n",
            "\u001b[34m\u001b[1mwandb\u001b[0m: \n"
          ]
        },
        {
          "output_type": "stream",
          "name": "stderr",
          "text": [
            "\u001b[34m\u001b[1mwandb\u001b[0m: 🚀 View run \u001b[33m12\u001b[0m at: \u001b[34m\u001b[4mhttps://wandb.ai/babycar27/GeneticTSPSolution/runs/46uwqeyl\u001b[0m\n",
            "\u001b[34m\u001b[1mwandb\u001b[0m: Synced 5 W&B file(s), 0 media file(s), 0 artifact file(s) and 0 other file(s)\n"
          ]
        },
        {
          "output_type": "stream",
          "name": "stderr",
          "text": [
            "\u001b[34m\u001b[1mwandb\u001b[0m: Find logs at: \u001b[35m\u001b[1m./wandb/run-20231001_131318-46uwqeyl/logs\u001b[0m\n"
          ]
        },
        {
          "output_type": "stream",
          "name": "stderr",
          "text": [
            "[I 2023-10-01 13:13:40,608] Trial 12 finished with value: 45.62064998624179 and parameters: {'pop_size': 132, 'p_crossover': 0.6910507166655586, 'p_mutation': 0.19915930804750026, 'tournament_size': 4}. Best is trial 8 with value: 39.22918412575097.\n"
          ]
        },
        {
          "output_type": "stream",
          "name": "stderr",
          "text": [
            "\u001b[34m\u001b[1mwandb\u001b[0m: - Waiting for wandb.init()...\r"
          ]
        },
        {
          "output_type": "stream",
          "name": "stderr",
          "text": [
            "\u001b[34m\u001b[1mwandb\u001b[0m: \\ Waiting for wandb.init()...\r"
          ]
        },
        {
          "output_type": "stream",
          "name": "stderr",
          "text": [
            "\u001b[34m\u001b[1mwandb\u001b[0m: Tracking run with wandb version 0.15.11\n"
          ]
        },
        {
          "output_type": "stream",
          "name": "stderr",
          "text": [
            "\u001b[34m\u001b[1mwandb\u001b[0m: Run data is saved locally in \u001b[35m\u001b[1m/etc/noteable/project/wandb/run-20231001_131340-vghdmj8i\u001b[0m\n",
            "\u001b[34m\u001b[1mwandb\u001b[0m: Run \u001b[1m`wandb offline`\u001b[0m to turn off syncing.\n"
          ]
        },
        {
          "output_type": "stream",
          "name": "stderr",
          "text": [
            "\u001b[34m\u001b[1mwandb\u001b[0m: Syncing run \u001b[33m13\u001b[0m\n"
          ]
        },
        {
          "output_type": "stream",
          "name": "stderr",
          "text": [
            "\u001b[34m\u001b[1mwandb\u001b[0m: ⭐️ View project at \u001b[34m\u001b[4mhttps://wandb.ai/babycar27/GeneticTSPSolution\u001b[0m\n"
          ]
        },
        {
          "output_type": "stream",
          "name": "stderr",
          "text": [
            "\u001b[34m\u001b[1mwandb\u001b[0m: 🚀 View run at \u001b[34m\u001b[4mhttps://wandb.ai/babycar27/GeneticTSPSolution/runs/vghdmj8i\u001b[0m\n"
          ]
        },
        {
          "output_type": "stream",
          "name": "stderr",
          "text": [
            "\u001b[34m\u001b[1mwandb\u001b[0m: Waiting for W&B process to finish... \u001b[32m(success).\u001b[0m\n"
          ]
        },
        {
          "output_type": "stream",
          "name": "stderr",
          "text": [
            "\u001b[34m\u001b[1mwandb\u001b[0m: \n",
            "\u001b[34m\u001b[1mwandb\u001b[0m: Run history:\n",
            "\u001b[34m\u001b[1mwandb\u001b[0m: Average Fitness █▅▃▂▂▁▂▁▂▂▂▂▂▂▂▂▂▂▂▃▂▃▂▂▂▂▂▁▂▂▂▁▁▂▂▁▂▂▁▂\n",
            "\u001b[34m\u001b[1mwandb\u001b[0m:     Max Fitness ▄▄▅▂▄▂▄▃▁▃▆▄▃▃▃▆▄▄▆█▄█▂▃▄▄▄▄▄▃▃▃▁▂▃▃▃▄▂▃\n",
            "\u001b[34m\u001b[1mwandb\u001b[0m:     Min Fitness █▆▁▁▁▁▁▁▁▁▁▁▁▁▁▁▁▁▁▁▁▁▁▁▁▁▁▁▁▁▁▁▁▁▁▁▁▁▁▁\n",
            "\u001b[34m\u001b[1mwandb\u001b[0m: \n",
            "\u001b[34m\u001b[1mwandb\u001b[0m: Run summary:\n",
            "\u001b[34m\u001b[1mwandb\u001b[0m: Average Fitness 0.01665\n",
            "\u001b[34m\u001b[1mwandb\u001b[0m:     Max Fitness 0.02336\n",
            "\u001b[34m\u001b[1mwandb\u001b[0m:     Min Fitness 0.01535\n",
            "\u001b[34m\u001b[1mwandb\u001b[0m: \n"
          ]
        },
        {
          "output_type": "stream",
          "name": "stderr",
          "text": [
            "\u001b[34m\u001b[1mwandb\u001b[0m: 🚀 View run \u001b[33m13\u001b[0m at: \u001b[34m\u001b[4mhttps://wandb.ai/babycar27/GeneticTSPSolution/runs/vghdmj8i\u001b[0m\n",
            "\u001b[34m\u001b[1mwandb\u001b[0m: Synced 5 W&B file(s), 0 media file(s), 0 artifact file(s) and 0 other file(s)\n"
          ]
        },
        {
          "output_type": "stream",
          "name": "stderr",
          "text": [
            "\u001b[34m\u001b[1mwandb\u001b[0m: Find logs at: \u001b[35m\u001b[1m./wandb/run-20231001_131340-vghdmj8i/logs\u001b[0m\n"
          ]
        },
        {
          "output_type": "stream",
          "name": "stderr",
          "text": [
            "[I 2023-10-01 13:14:01,625] Trial 13 finished with value: 42.80704823598115 and parameters: {'pop_size': 94, 'p_crossover': 0.5151557129371913, 'p_mutation': 0.05249950516112029, 'tournament_size': 8}. Best is trial 8 with value: 39.22918412575097.\n"
          ]
        },
        {
          "output_type": "stream",
          "name": "stderr",
          "text": [
            "\u001b[34m\u001b[1mwandb\u001b[0m: - Waiting for wandb.init()...\r"
          ]
        },
        {
          "output_type": "stream",
          "name": "stderr",
          "text": [
            "\u001b[34m\u001b[1mwandb\u001b[0m: \\ Waiting for wandb.init()...\r"
          ]
        },
        {
          "output_type": "stream",
          "name": "stderr",
          "text": [
            "[W 2023-10-01 13:14:08,392] Trial 14 failed with parameters: {'pop_size': 147, 'p_crossover': 0.7275373426245642, 'p_mutation': 0.12548396759048325, 'tournament_size': 10} because of the following error: KeyboardInterrupt().\n",
            "Traceback (most recent call last):\n",
            "  File \"/opt/conda/lib/python3.9/site-packages/optuna/study/_optimize.py\", line 200, in _run_trial\n",
            "    value_or_values = func(trial)\n",
            "  File \"/tmp/ipykernel_7/758470424.py\", line 11, in objective\n",
            "    run = wandb.init(project='GeneticTSPSolution', entity='babycar27', name=str(trial.number), config=config)\n",
            "  File \"/opt/conda/lib/python3.9/site-packages/wandb/sdk/wandb_init.py\", line 1193, in init\n",
            "    raise e\n",
            "  File \"/opt/conda/lib/python3.9/site-packages/wandb/sdk/wandb_init.py\", line 1170, in init\n",
            "    run = wi.init()\n",
            "  File \"/opt/conda/lib/python3.9/site-packages/wandb/sdk/wandb_init.py\", line 815, in init\n",
            "    run_start_result = run_start_handle.wait(timeout=30)\n",
            "  File \"/opt/conda/lib/python3.9/site-packages/wandb/sdk/lib/mailbox.py\", line 283, in wait\n",
            "    found, abandoned = self._slot._get_and_clear(timeout=wait_timeout)\n",
            "  File \"/opt/conda/lib/python3.9/site-packages/wandb/sdk/lib/mailbox.py\", line 130, in _get_and_clear\n",
            "    if self._wait(timeout=timeout):\n",
            "  File \"/opt/conda/lib/python3.9/site-packages/wandb/sdk/lib/mailbox.py\", line 126, in _wait\n",
            "    return self._event.wait(timeout=timeout)\n",
            "  File \"/opt/conda/lib/python3.9/threading.py\", line 581, in wait\n",
            "    signaled = self._cond.wait(timeout)\n",
            "  File \"/opt/conda/lib/python3.9/threading.py\", line 316, in wait\n",
            "    gotit = waiter.acquire(True, timeout)\n",
            "KeyboardInterrupt\n"
          ]
        },
        {
          "output_type": "stream",
          "name": "stderr",
          "text": [
            "[W 2023-10-01 13:14:08,393] Trial 14 failed with value None.\n"
          ]
        },
        {
          "output_type": "stream",
          "name": "stdout",
          "text": [
            "Problem at: /opt/conda/lib/python3.9/site-packages/wandb/sdk/wandb_init.py 852 getcaller\n"
          ]
        },
        {
          "output_type": "error",
          "ename": "KeyboardInterrupt",
          "evalue": "",
          "traceback": [
            "\u001b[0;31m---------------------------------------------------------------------------\u001b[0m",
            "\u001b[0;31mKeyboardInterrupt\u001b[0m                         Traceback (most recent call last)",
            "Cell \u001b[0;32mIn[54], line 23\u001b[0m\n\u001b[1;32m     21\u001b[0m \u001b[38;5;66;03m# Запускаем оптимизацию с помощью Optuna\u001b[39;00m\n\u001b[1;32m     22\u001b[0m study \u001b[38;5;241m=\u001b[39m optuna\u001b[38;5;241m.\u001b[39mcreate_study(direction\u001b[38;5;241m=\u001b[39m\u001b[38;5;124m'\u001b[39m\u001b[38;5;124mminimize\u001b[39m\u001b[38;5;124m'\u001b[39m)\n\u001b[0;32m---> 23\u001b[0m \u001b[43mstudy\u001b[49m\u001b[38;5;241;43m.\u001b[39;49m\u001b[43moptimize\u001b[49m\u001b[43m(\u001b[49m\u001b[43mobjective\u001b[49m\u001b[43m,\u001b[49m\u001b[43m \u001b[49m\u001b[43mn_trials\u001b[49m\u001b[38;5;241;43m=\u001b[39;49m\u001b[38;5;241;43m30\u001b[39;49m\u001b[43m)\u001b[49m\n",
            "File \u001b[0;32m/opt/conda/lib/python3.9/site-packages/optuna/study/study.py:442\u001b[0m, in \u001b[0;36mStudy.optimize\u001b[0;34m(self, func, n_trials, timeout, n_jobs, catch, callbacks, gc_after_trial, show_progress_bar)\u001b[0m\n\u001b[1;32m    339\u001b[0m \u001b[38;5;28;01mdef\u001b[39;00m \u001b[38;5;21moptimize\u001b[39m(\n\u001b[1;32m    340\u001b[0m     \u001b[38;5;28mself\u001b[39m,\n\u001b[1;32m    341\u001b[0m     func: ObjectiveFuncType,\n\u001b[0;32m   (...)\u001b[0m\n\u001b[1;32m    348\u001b[0m     show_progress_bar: \u001b[38;5;28mbool\u001b[39m \u001b[38;5;241m=\u001b[39m \u001b[38;5;28;01mFalse\u001b[39;00m,\n\u001b[1;32m    349\u001b[0m ) \u001b[38;5;241m-\u001b[39m\u001b[38;5;241m>\u001b[39m \u001b[38;5;28;01mNone\u001b[39;00m:\n\u001b[1;32m    350\u001b[0m \u001b[38;5;250m    \u001b[39m\u001b[38;5;124;03m\"\"\"Optimize an objective function.\u001b[39;00m\n\u001b[1;32m    351\u001b[0m \n\u001b[1;32m    352\u001b[0m \u001b[38;5;124;03m    Optimization is done by choosing a suitable set of hyperparameter values from a given\u001b[39;00m\n\u001b[0;32m   (...)\u001b[0m\n\u001b[1;32m    440\u001b[0m \u001b[38;5;124;03m            If nested invocation of this method occurs.\u001b[39;00m\n\u001b[1;32m    441\u001b[0m \u001b[38;5;124;03m    \"\"\"\u001b[39;00m\n\u001b[0;32m--> 442\u001b[0m     \u001b[43m_optimize\u001b[49m\u001b[43m(\u001b[49m\n\u001b[1;32m    443\u001b[0m \u001b[43m        \u001b[49m\u001b[43mstudy\u001b[49m\u001b[38;5;241;43m=\u001b[39;49m\u001b[38;5;28;43mself\u001b[39;49m\u001b[43m,\u001b[49m\n\u001b[1;32m    444\u001b[0m \u001b[43m        \u001b[49m\u001b[43mfunc\u001b[49m\u001b[38;5;241;43m=\u001b[39;49m\u001b[43mfunc\u001b[49m\u001b[43m,\u001b[49m\n\u001b[1;32m    445\u001b[0m \u001b[43m        \u001b[49m\u001b[43mn_trials\u001b[49m\u001b[38;5;241;43m=\u001b[39;49m\u001b[43mn_trials\u001b[49m\u001b[43m,\u001b[49m\n\u001b[1;32m    446\u001b[0m \u001b[43m        \u001b[49m\u001b[43mtimeout\u001b[49m\u001b[38;5;241;43m=\u001b[39;49m\u001b[43mtimeout\u001b[49m\u001b[43m,\u001b[49m\n\u001b[1;32m    447\u001b[0m \u001b[43m        \u001b[49m\u001b[43mn_jobs\u001b[49m\u001b[38;5;241;43m=\u001b[39;49m\u001b[43mn_jobs\u001b[49m\u001b[43m,\u001b[49m\n\u001b[1;32m    448\u001b[0m \u001b[43m        \u001b[49m\u001b[43mcatch\u001b[49m\u001b[38;5;241;43m=\u001b[39;49m\u001b[38;5;28;43mtuple\u001b[39;49m\u001b[43m(\u001b[49m\u001b[43mcatch\u001b[49m\u001b[43m)\u001b[49m\u001b[43m \u001b[49m\u001b[38;5;28;43;01mif\u001b[39;49;00m\u001b[43m \u001b[49m\u001b[38;5;28;43misinstance\u001b[39;49m\u001b[43m(\u001b[49m\u001b[43mcatch\u001b[49m\u001b[43m,\u001b[49m\u001b[43m \u001b[49m\u001b[43mIterable\u001b[49m\u001b[43m)\u001b[49m\u001b[43m \u001b[49m\u001b[38;5;28;43;01melse\u001b[39;49;00m\u001b[43m \u001b[49m\u001b[43m(\u001b[49m\u001b[43mcatch\u001b[49m\u001b[43m,\u001b[49m\u001b[43m)\u001b[49m\u001b[43m,\u001b[49m\n\u001b[1;32m    449\u001b[0m \u001b[43m        \u001b[49m\u001b[43mcallbacks\u001b[49m\u001b[38;5;241;43m=\u001b[39;49m\u001b[43mcallbacks\u001b[49m\u001b[43m,\u001b[49m\n\u001b[1;32m    450\u001b[0m \u001b[43m        \u001b[49m\u001b[43mgc_after_trial\u001b[49m\u001b[38;5;241;43m=\u001b[39;49m\u001b[43mgc_after_trial\u001b[49m\u001b[43m,\u001b[49m\n\u001b[1;32m    451\u001b[0m \u001b[43m        \u001b[49m\u001b[43mshow_progress_bar\u001b[49m\u001b[38;5;241;43m=\u001b[39;49m\u001b[43mshow_progress_bar\u001b[49m\u001b[43m,\u001b[49m\n\u001b[1;32m    452\u001b[0m \u001b[43m    \u001b[49m\u001b[43m)\u001b[49m\n",
            "File \u001b[0;32m/opt/conda/lib/python3.9/site-packages/optuna/study/_optimize.py:66\u001b[0m, in \u001b[0;36m_optimize\u001b[0;34m(study, func, n_trials, timeout, n_jobs, catch, callbacks, gc_after_trial, show_progress_bar)\u001b[0m\n\u001b[1;32m     64\u001b[0m \u001b[38;5;28;01mtry\u001b[39;00m:\n\u001b[1;32m     65\u001b[0m     \u001b[38;5;28;01mif\u001b[39;00m n_jobs \u001b[38;5;241m==\u001b[39m \u001b[38;5;241m1\u001b[39m:\n\u001b[0;32m---> 66\u001b[0m         \u001b[43m_optimize_sequential\u001b[49m\u001b[43m(\u001b[49m\n\u001b[1;32m     67\u001b[0m \u001b[43m            \u001b[49m\u001b[43mstudy\u001b[49m\u001b[43m,\u001b[49m\n\u001b[1;32m     68\u001b[0m \u001b[43m            \u001b[49m\u001b[43mfunc\u001b[49m\u001b[43m,\u001b[49m\n\u001b[1;32m     69\u001b[0m \u001b[43m            \u001b[49m\u001b[43mn_trials\u001b[49m\u001b[43m,\u001b[49m\n\u001b[1;32m     70\u001b[0m \u001b[43m            \u001b[49m\u001b[43mtimeout\u001b[49m\u001b[43m,\u001b[49m\n\u001b[1;32m     71\u001b[0m \u001b[43m            \u001b[49m\u001b[43mcatch\u001b[49m\u001b[43m,\u001b[49m\n\u001b[1;32m     72\u001b[0m \u001b[43m            \u001b[49m\u001b[43mcallbacks\u001b[49m\u001b[43m,\u001b[49m\n\u001b[1;32m     73\u001b[0m \u001b[43m            \u001b[49m\u001b[43mgc_after_trial\u001b[49m\u001b[43m,\u001b[49m\n\u001b[1;32m     74\u001b[0m \u001b[43m            \u001b[49m\u001b[43mreseed_sampler_rng\u001b[49m\u001b[38;5;241;43m=\u001b[39;49m\u001b[38;5;28;43;01mFalse\u001b[39;49;00m\u001b[43m,\u001b[49m\n\u001b[1;32m     75\u001b[0m \u001b[43m            \u001b[49m\u001b[43mtime_start\u001b[49m\u001b[38;5;241;43m=\u001b[39;49m\u001b[38;5;28;43;01mNone\u001b[39;49;00m\u001b[43m,\u001b[49m\n\u001b[1;32m     76\u001b[0m \u001b[43m            \u001b[49m\u001b[43mprogress_bar\u001b[49m\u001b[38;5;241;43m=\u001b[39;49m\u001b[43mprogress_bar\u001b[49m\u001b[43m,\u001b[49m\n\u001b[1;32m     77\u001b[0m \u001b[43m        \u001b[49m\u001b[43m)\u001b[49m\n\u001b[1;32m     78\u001b[0m     \u001b[38;5;28;01melse\u001b[39;00m:\n\u001b[1;32m     79\u001b[0m         \u001b[38;5;28;01mif\u001b[39;00m n_jobs \u001b[38;5;241m==\u001b[39m \u001b[38;5;241m-\u001b[39m\u001b[38;5;241m1\u001b[39m:\n",
            "File \u001b[0;32m/opt/conda/lib/python3.9/site-packages/optuna/study/_optimize.py:163\u001b[0m, in \u001b[0;36m_optimize_sequential\u001b[0;34m(study, func, n_trials, timeout, catch, callbacks, gc_after_trial, reseed_sampler_rng, time_start, progress_bar)\u001b[0m\n\u001b[1;32m    160\u001b[0m         \u001b[38;5;28;01mbreak\u001b[39;00m\n\u001b[1;32m    162\u001b[0m \u001b[38;5;28;01mtry\u001b[39;00m:\n\u001b[0;32m--> 163\u001b[0m     frozen_trial \u001b[38;5;241m=\u001b[39m \u001b[43m_run_trial\u001b[49m\u001b[43m(\u001b[49m\u001b[43mstudy\u001b[49m\u001b[43m,\u001b[49m\u001b[43m \u001b[49m\u001b[43mfunc\u001b[49m\u001b[43m,\u001b[49m\u001b[43m \u001b[49m\u001b[43mcatch\u001b[49m\u001b[43m)\u001b[49m\n\u001b[1;32m    164\u001b[0m \u001b[38;5;28;01mfinally\u001b[39;00m:\n\u001b[1;32m    165\u001b[0m     \u001b[38;5;66;03m# The following line mitigates memory problems that can be occurred in some\u001b[39;00m\n\u001b[1;32m    166\u001b[0m     \u001b[38;5;66;03m# environments (e.g., services that use computing containers such as GitHub Actions).\u001b[39;00m\n\u001b[1;32m    167\u001b[0m     \u001b[38;5;66;03m# Please refer to the following PR for further details:\u001b[39;00m\n\u001b[1;32m    168\u001b[0m     \u001b[38;5;66;03m# https://github.com/optuna/optuna/pull/325.\u001b[39;00m\n\u001b[1;32m    169\u001b[0m     \u001b[38;5;28;01mif\u001b[39;00m gc_after_trial:\n",
            "File \u001b[0;32m/opt/conda/lib/python3.9/site-packages/optuna/study/_optimize.py:251\u001b[0m, in \u001b[0;36m_run_trial\u001b[0;34m(study, func, catch)\u001b[0m\n\u001b[1;32m    244\u001b[0m         \u001b[38;5;28;01massert\u001b[39;00m \u001b[38;5;28;01mFalse\u001b[39;00m, \u001b[38;5;124m\"\u001b[39m\u001b[38;5;124mShould not reach.\u001b[39m\u001b[38;5;124m\"\u001b[39m\n\u001b[1;32m    246\u001b[0m \u001b[38;5;28;01mif\u001b[39;00m (\n\u001b[1;32m    247\u001b[0m     frozen_trial\u001b[38;5;241m.\u001b[39mstate \u001b[38;5;241m==\u001b[39m TrialState\u001b[38;5;241m.\u001b[39mFAIL\n\u001b[1;32m    248\u001b[0m     \u001b[38;5;129;01mand\u001b[39;00m func_err \u001b[38;5;129;01mis\u001b[39;00m \u001b[38;5;129;01mnot\u001b[39;00m \u001b[38;5;28;01mNone\u001b[39;00m\n\u001b[1;32m    249\u001b[0m     \u001b[38;5;129;01mand\u001b[39;00m \u001b[38;5;129;01mnot\u001b[39;00m \u001b[38;5;28misinstance\u001b[39m(func_err, catch)\n\u001b[1;32m    250\u001b[0m ):\n\u001b[0;32m--> 251\u001b[0m     \u001b[38;5;28;01mraise\u001b[39;00m func_err\n\u001b[1;32m    252\u001b[0m \u001b[38;5;28;01mreturn\u001b[39;00m frozen_trial\n",
            "File \u001b[0;32m/opt/conda/lib/python3.9/site-packages/optuna/study/_optimize.py:200\u001b[0m, in \u001b[0;36m_run_trial\u001b[0;34m(study, func, catch)\u001b[0m\n\u001b[1;32m    198\u001b[0m \u001b[38;5;28;01mwith\u001b[39;00m get_heartbeat_thread(trial\u001b[38;5;241m.\u001b[39m_trial_id, study\u001b[38;5;241m.\u001b[39m_storage):\n\u001b[1;32m    199\u001b[0m     \u001b[38;5;28;01mtry\u001b[39;00m:\n\u001b[0;32m--> 200\u001b[0m         value_or_values \u001b[38;5;241m=\u001b[39m \u001b[43mfunc\u001b[49m\u001b[43m(\u001b[49m\u001b[43mtrial\u001b[49m\u001b[43m)\u001b[49m\n\u001b[1;32m    201\u001b[0m     \u001b[38;5;28;01mexcept\u001b[39;00m exceptions\u001b[38;5;241m.\u001b[39mTrialPruned \u001b[38;5;28;01mas\u001b[39;00m e:\n\u001b[1;32m    202\u001b[0m         \u001b[38;5;66;03m# TODO(mamu): Handle multi-objective cases.\u001b[39;00m\n\u001b[1;32m    203\u001b[0m         state \u001b[38;5;241m=\u001b[39m TrialState\u001b[38;5;241m.\u001b[39mPRUNED\n",
            "Cell \u001b[0;32mIn[54], line 11\u001b[0m, in \u001b[0;36mobjective\u001b[0;34m(trial)\u001b[0m\n\u001b[1;32m      3\u001b[0m config \u001b[38;5;241m=\u001b[39m {\n\u001b[1;32m      4\u001b[0m     \u001b[38;5;124m'\u001b[39m\u001b[38;5;124mpop_size\u001b[39m\u001b[38;5;124m'\u001b[39m: trial\u001b[38;5;241m.\u001b[39msuggest_int(\u001b[38;5;124m'\u001b[39m\u001b[38;5;124mpop_size\u001b[39m\u001b[38;5;124m'\u001b[39m, \u001b[38;5;241m50\u001b[39m, \u001b[38;5;241m200\u001b[39m),\n\u001b[1;32m      5\u001b[0m     \u001b[38;5;124m'\u001b[39m\u001b[38;5;124mp_crossover\u001b[39m\u001b[38;5;124m'\u001b[39m: trial\u001b[38;5;241m.\u001b[39msuggest_float(\u001b[38;5;124m'\u001b[39m\u001b[38;5;124mp_crossover\u001b[39m\u001b[38;5;124m'\u001b[39m, \u001b[38;5;241m0.5\u001b[39m, \u001b[38;5;241m1.0\u001b[39m),\n\u001b[1;32m      6\u001b[0m     \u001b[38;5;124m'\u001b[39m\u001b[38;5;124mp_mutation\u001b[39m\u001b[38;5;124m'\u001b[39m: trial\u001b[38;5;241m.\u001b[39msuggest_float(\u001b[38;5;124m'\u001b[39m\u001b[38;5;124mp_mutation\u001b[39m\u001b[38;5;124m'\u001b[39m, \u001b[38;5;241m0.01\u001b[39m, \u001b[38;5;241m0.2\u001b[39m),\n\u001b[1;32m      7\u001b[0m     \u001b[38;5;124m'\u001b[39m\u001b[38;5;124mtournament_size\u001b[39m\u001b[38;5;124m'\u001b[39m: trial\u001b[38;5;241m.\u001b[39msuggest_int(\u001b[38;5;124m'\u001b[39m\u001b[38;5;124mtournament_size\u001b[39m\u001b[38;5;124m'\u001b[39m, \u001b[38;5;241m2\u001b[39m, \u001b[38;5;241m10\u001b[39m)\n\u001b[1;32m      8\u001b[0m }\n\u001b[1;32m     10\u001b[0m \u001b[38;5;66;03m# Инициализация wandb\u001b[39;00m\n\u001b[0;32m---> 11\u001b[0m run \u001b[38;5;241m=\u001b[39m \u001b[43mwandb\u001b[49m\u001b[38;5;241;43m.\u001b[39;49m\u001b[43minit\u001b[49m\u001b[43m(\u001b[49m\u001b[43mproject\u001b[49m\u001b[38;5;241;43m=\u001b[39;49m\u001b[38;5;124;43m'\u001b[39;49m\u001b[38;5;124;43mGeneticTSPSolution\u001b[39;49m\u001b[38;5;124;43m'\u001b[39;49m\u001b[43m,\u001b[49m\u001b[43m \u001b[49m\u001b[43mentity\u001b[49m\u001b[38;5;241;43m=\u001b[39;49m\u001b[38;5;124;43m'\u001b[39;49m\u001b[38;5;124;43mbabycar27\u001b[39;49m\u001b[38;5;124;43m'\u001b[39;49m\u001b[43m,\u001b[49m\u001b[43m \u001b[49m\u001b[43mname\u001b[49m\u001b[38;5;241;43m=\u001b[39;49m\u001b[38;5;28;43mstr\u001b[39;49m\u001b[43m(\u001b[49m\u001b[43mtrial\u001b[49m\u001b[38;5;241;43m.\u001b[39;49m\u001b[43mnumber\u001b[49m\u001b[43m)\u001b[49m\u001b[43m,\u001b[49m\u001b[43m \u001b[49m\u001b[43mconfig\u001b[49m\u001b[38;5;241;43m=\u001b[39;49m\u001b[43mconfig\u001b[49m\u001b[43m)\u001b[49m\n\u001b[1;32m     13\u001b[0m \u001b[38;5;66;03m# Запускаем генетический алгоритм\u001b[39;00m\n\u001b[1;32m     14\u001b[0m genetic_solver \u001b[38;5;241m=\u001b[39m GeneticTSPSolution(cities, distances_matrix, \u001b[38;5;241m*\u001b[39m\u001b[38;5;241m*\u001b[39mconfig)\n",
            "File \u001b[0;32m/opt/conda/lib/python3.9/site-packages/wandb/sdk/wandb_init.py:1193\u001b[0m, in \u001b[0;36minit\u001b[0;34m(job_type, dir, config, project, entity, reinit, tags, group, name, notes, magic, config_exclude_keys, config_include_keys, anonymous, mode, allow_val_change, resume, force, tensorboard, sync_tensorboard, monitor_gym, save_code, id, settings)\u001b[0m\n\u001b[1;32m   1191\u001b[0m     \u001b[38;5;28;01massert\u001b[39;00m logger\n\u001b[1;32m   1192\u001b[0m     logger\u001b[38;5;241m.\u001b[39mwarning(\u001b[38;5;124m\"\u001b[39m\u001b[38;5;124minterrupted\u001b[39m\u001b[38;5;124m\"\u001b[39m, exc_info\u001b[38;5;241m=\u001b[39me)\n\u001b[0;32m-> 1193\u001b[0m     \u001b[38;5;28;01mraise\u001b[39;00m e\n\u001b[1;32m   1194\u001b[0m \u001b[38;5;28;01mexcept\u001b[39;00m \u001b[38;5;167;01mException\u001b[39;00m \u001b[38;5;28;01mas\u001b[39;00m e:\n\u001b[1;32m   1195\u001b[0m     error_seen \u001b[38;5;241m=\u001b[39m e\n",
            "File \u001b[0;32m/opt/conda/lib/python3.9/site-packages/wandb/sdk/wandb_init.py:1170\u001b[0m, in \u001b[0;36minit\u001b[0;34m(job_type, dir, config, project, entity, reinit, tags, group, name, notes, magic, config_exclude_keys, config_include_keys, anonymous, mode, allow_val_change, resume, force, tensorboard, sync_tensorboard, monitor_gym, save_code, id, settings)\u001b[0m\n\u001b[1;32m   1168\u001b[0m except_exit \u001b[38;5;241m=\u001b[39m wi\u001b[38;5;241m.\u001b[39msettings\u001b[38;5;241m.\u001b[39m_except_exit\n\u001b[1;32m   1169\u001b[0m \u001b[38;5;28;01mtry\u001b[39;00m:\n\u001b[0;32m-> 1170\u001b[0m     run \u001b[38;5;241m=\u001b[39m \u001b[43mwi\u001b[49m\u001b[38;5;241;43m.\u001b[39;49m\u001b[43minit\u001b[49m\u001b[43m(\u001b[49m\u001b[43m)\u001b[49m\n\u001b[1;32m   1171\u001b[0m     except_exit \u001b[38;5;241m=\u001b[39m wi\u001b[38;5;241m.\u001b[39msettings\u001b[38;5;241m.\u001b[39m_except_exit\n\u001b[1;32m   1172\u001b[0m \u001b[38;5;28;01mexcept\u001b[39;00m (\u001b[38;5;167;01mKeyboardInterrupt\u001b[39;00m, \u001b[38;5;167;01mException\u001b[39;00m) \u001b[38;5;28;01mas\u001b[39;00m e:\n",
            "File \u001b[0;32m/opt/conda/lib/python3.9/site-packages/wandb/sdk/wandb_init.py:815\u001b[0m, in \u001b[0;36m_WandbInit.init\u001b[0;34m(self)\u001b[0m\n\u001b[1;32m    813\u001b[0m run_start_handle \u001b[38;5;241m=\u001b[39m backend\u001b[38;5;241m.\u001b[39minterface\u001b[38;5;241m.\u001b[39mdeliver_run_start(run\u001b[38;5;241m.\u001b[39m_run_obj)\n\u001b[1;32m    814\u001b[0m \u001b[38;5;66;03m# TODO: add progress to let user know we are doing something\u001b[39;00m\n\u001b[0;32m--> 815\u001b[0m run_start_result \u001b[38;5;241m=\u001b[39m \u001b[43mrun_start_handle\u001b[49m\u001b[38;5;241;43m.\u001b[39;49m\u001b[43mwait\u001b[49m\u001b[43m(\u001b[49m\u001b[43mtimeout\u001b[49m\u001b[38;5;241;43m=\u001b[39;49m\u001b[38;5;241;43m30\u001b[39;49m\u001b[43m)\u001b[49m\n\u001b[1;32m    816\u001b[0m \u001b[38;5;28;01mif\u001b[39;00m run_start_result \u001b[38;5;129;01mis\u001b[39;00m \u001b[38;5;28;01mNone\u001b[39;00m:\n\u001b[1;32m    817\u001b[0m     run_start_handle\u001b[38;5;241m.\u001b[39mabandon()\n",
            "File \u001b[0;32m/opt/conda/lib/python3.9/site-packages/wandb/sdk/lib/mailbox.py:283\u001b[0m, in \u001b[0;36mMailboxHandle.wait\u001b[0;34m(self, timeout, on_probe, on_progress, release, cancel)\u001b[0m\n\u001b[1;32m    280\u001b[0m     \u001b[38;5;28;01mif\u001b[39;00m \u001b[38;5;28mself\u001b[39m\u001b[38;5;241m.\u001b[39m_interface\u001b[38;5;241m.\u001b[39m_transport_keepalive_failed():\n\u001b[1;32m    281\u001b[0m         \u001b[38;5;28;01mraise\u001b[39;00m MailboxError(\u001b[38;5;124m\"\u001b[39m\u001b[38;5;124mtransport failed\u001b[39m\u001b[38;5;124m\"\u001b[39m)\n\u001b[0;32m--> 283\u001b[0m found, abandoned \u001b[38;5;241m=\u001b[39m \u001b[38;5;28;43mself\u001b[39;49m\u001b[38;5;241;43m.\u001b[39;49m\u001b[43m_slot\u001b[49m\u001b[38;5;241;43m.\u001b[39;49m\u001b[43m_get_and_clear\u001b[49m\u001b[43m(\u001b[49m\u001b[43mtimeout\u001b[49m\u001b[38;5;241;43m=\u001b[39;49m\u001b[43mwait_timeout\u001b[49m\u001b[43m)\u001b[49m\n\u001b[1;32m    284\u001b[0m \u001b[38;5;28;01mif\u001b[39;00m found:\n\u001b[1;32m    285\u001b[0m     \u001b[38;5;66;03m# Always update progress to 100% when done\u001b[39;00m\n\u001b[1;32m    286\u001b[0m     \u001b[38;5;28;01mif\u001b[39;00m on_progress \u001b[38;5;129;01mand\u001b[39;00m progress_handle \u001b[38;5;129;01mand\u001b[39;00m progress_sent:\n",
            "File \u001b[0;32m/opt/conda/lib/python3.9/site-packages/wandb/sdk/lib/mailbox.py:130\u001b[0m, in \u001b[0;36m_MailboxSlot._get_and_clear\u001b[0;34m(self, timeout)\u001b[0m\n\u001b[1;32m    128\u001b[0m \u001b[38;5;28;01mdef\u001b[39;00m \u001b[38;5;21m_get_and_clear\u001b[39m(\u001b[38;5;28mself\u001b[39m, timeout: \u001b[38;5;28mfloat\u001b[39m) \u001b[38;5;241m-\u001b[39m\u001b[38;5;241m>\u001b[39m Tuple[Optional[pb\u001b[38;5;241m.\u001b[39mResult], \u001b[38;5;28mbool\u001b[39m]:\n\u001b[1;32m    129\u001b[0m     found \u001b[38;5;241m=\u001b[39m \u001b[38;5;28;01mNone\u001b[39;00m\n\u001b[0;32m--> 130\u001b[0m     \u001b[38;5;28;01mif\u001b[39;00m \u001b[38;5;28;43mself\u001b[39;49m\u001b[38;5;241;43m.\u001b[39;49m\u001b[43m_wait\u001b[49m\u001b[43m(\u001b[49m\u001b[43mtimeout\u001b[49m\u001b[38;5;241;43m=\u001b[39;49m\u001b[43mtimeout\u001b[49m\u001b[43m)\u001b[49m:\n\u001b[1;32m    131\u001b[0m         \u001b[38;5;28;01mwith\u001b[39;00m \u001b[38;5;28mself\u001b[39m\u001b[38;5;241m.\u001b[39m_lock:\n\u001b[1;32m    132\u001b[0m             found \u001b[38;5;241m=\u001b[39m \u001b[38;5;28mself\u001b[39m\u001b[38;5;241m.\u001b[39m_result\n",
            "File \u001b[0;32m/opt/conda/lib/python3.9/site-packages/wandb/sdk/lib/mailbox.py:126\u001b[0m, in \u001b[0;36m_MailboxSlot._wait\u001b[0;34m(self, timeout)\u001b[0m\n\u001b[1;32m    125\u001b[0m \u001b[38;5;28;01mdef\u001b[39;00m \u001b[38;5;21m_wait\u001b[39m(\u001b[38;5;28mself\u001b[39m, timeout: \u001b[38;5;28mfloat\u001b[39m) \u001b[38;5;241m-\u001b[39m\u001b[38;5;241m>\u001b[39m \u001b[38;5;28mbool\u001b[39m:\n\u001b[0;32m--> 126\u001b[0m     \u001b[38;5;28;01mreturn\u001b[39;00m \u001b[38;5;28;43mself\u001b[39;49m\u001b[38;5;241;43m.\u001b[39;49m\u001b[43m_event\u001b[49m\u001b[38;5;241;43m.\u001b[39;49m\u001b[43mwait\u001b[49m\u001b[43m(\u001b[49m\u001b[43mtimeout\u001b[49m\u001b[38;5;241;43m=\u001b[39;49m\u001b[43mtimeout\u001b[49m\u001b[43m)\u001b[49m\n",
            "File \u001b[0;32m/opt/conda/lib/python3.9/threading.py:581\u001b[0m, in \u001b[0;36mEvent.wait\u001b[0;34m(self, timeout)\u001b[0m\n\u001b[1;32m    579\u001b[0m signaled \u001b[38;5;241m=\u001b[39m \u001b[38;5;28mself\u001b[39m\u001b[38;5;241m.\u001b[39m_flag\n\u001b[1;32m    580\u001b[0m \u001b[38;5;28;01mif\u001b[39;00m \u001b[38;5;129;01mnot\u001b[39;00m signaled:\n\u001b[0;32m--> 581\u001b[0m     signaled \u001b[38;5;241m=\u001b[39m \u001b[38;5;28;43mself\u001b[39;49m\u001b[38;5;241;43m.\u001b[39;49m\u001b[43m_cond\u001b[49m\u001b[38;5;241;43m.\u001b[39;49m\u001b[43mwait\u001b[49m\u001b[43m(\u001b[49m\u001b[43mtimeout\u001b[49m\u001b[43m)\u001b[49m\n\u001b[1;32m    582\u001b[0m \u001b[38;5;28;01mreturn\u001b[39;00m signaled\n",
            "File \u001b[0;32m/opt/conda/lib/python3.9/threading.py:316\u001b[0m, in \u001b[0;36mCondition.wait\u001b[0;34m(self, timeout)\u001b[0m\n\u001b[1;32m    314\u001b[0m \u001b[38;5;28;01melse\u001b[39;00m:\n\u001b[1;32m    315\u001b[0m     \u001b[38;5;28;01mif\u001b[39;00m timeout \u001b[38;5;241m>\u001b[39m \u001b[38;5;241m0\u001b[39m:\n\u001b[0;32m--> 316\u001b[0m         gotit \u001b[38;5;241m=\u001b[39m \u001b[43mwaiter\u001b[49m\u001b[38;5;241;43m.\u001b[39;49m\u001b[43macquire\u001b[49m\u001b[43m(\u001b[49m\u001b[38;5;28;43;01mTrue\u001b[39;49;00m\u001b[43m,\u001b[49m\u001b[43m \u001b[49m\u001b[43mtimeout\u001b[49m\u001b[43m)\u001b[49m\n\u001b[1;32m    317\u001b[0m     \u001b[38;5;28;01melse\u001b[39;00m:\n\u001b[1;32m    318\u001b[0m         gotit \u001b[38;5;241m=\u001b[39m waiter\u001b[38;5;241m.\u001b[39macquire(\u001b[38;5;28;01mFalse\u001b[39;00m)\n",
            "\u001b[0;31mKeyboardInterrupt\u001b[0m: "
          ]
        }
      ],
      "execution_count": null,
      "metadata": {
        "noteable": {
          "cell_type": "code"
        },
        "ExecuteTime": {
          "end_time": "2023-10-01T13:14:10.007147+00:00",
          "start_time": "2023-10-01T13:09:06.147513+00:00"
        }
      },
      "id": "e9a8422c-e035-49c9-8764-814efc217152"
    },
    {
      "cell_type": "code",
      "source": [
        "!pip install -q deap"
      ],
      "outputs": [],
      "execution_count": null,
      "metadata": {
        "noteable": {
          "cell_type": "code"
        }
      },
      "id": "615391ec-d2c3-4267-b4f7-3840c534daa8"
    },
    {
      "cell_type": "markdown",
      "source": [
        "## DEAP (Distributed Evolutionary Algorithms in Python)\n",
        "\n",
        "DEAP - это библиотека Python для создания эволюционных алгоритмов и других алгоритмов оптимизации. Она предоставляет инструменты для создания индивидов и популяций, определения функций приспособленности и регистрации операторов, а также многих других функций, которые помогут вам реализовать эволюционные алгоритмы с минимальными усилиями.\n",
        "\n",
        "Основные особенности DEAP включают:\n",
        "- Гибкость в определении индивидов и операторов\n",
        "- Возможность легко расширять и модифицировать библиотеку\n",
        "- Поддержка многопроцессорных и распределенных вычислений\n",
        "- Встроенные алгоритмы для генетического программирования, эволюционных стратегий и других\n",
        "\n",
        "В этом разделе мы реализуем решение задачи коммивояжера с использованием DEAP, а также добавим логирование в WandB и перебор гиперпараметров."
      ],
      "metadata": {
        "noteable": {
          "cell_type": "markdown"
        }
      },
      "id": "7383c7f5-cabd-42f1-9712-d2ffbe72197b"
    }
  ],
  "metadata": {
    "noteable-chatgpt": {
      "create_notebook": {
        "openai_conversation_id": "be7f9a49-af50-54fd-934b-9e39709ec524",
        "openai_ephemeral_user_id": "96ec7ef2-fc4c-5c67-85a5-08a230f87d6f"
      }
    },
    "kernel_info": {
      "name": "python3"
    },
    "kernelspec": {
      "display_name": "Python 3.9",
      "language": "python",
      "name": "python3"
    },
    "selected_hardware_size": "small",
    "noteable": {
      "last_delta_id": "9ca6f350-9f1d-4ded-adb5-9e9bf69e6040"
    },
    "nteract": {
      "version": "noteable@2.9.0"
    }
  },
  "nbformat": 4,
  "nbformat_minor": 5
}