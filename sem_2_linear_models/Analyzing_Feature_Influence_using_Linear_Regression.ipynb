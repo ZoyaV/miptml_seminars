{
  "cells": [
    {
      "cell_type": "markdown",
      "source": [
        "## Анализ влияния признаков с помощью линейной регрессии vs Корреляция Пирсона\n",
        "\n",
        "Линейная регрессия и корреляция Пирсона являются двумя различными статистическими методами, используемыми для анализа взаимосвязи между переменными. Однако они имеют разные цели и интерпретации:\n",
        "\n",
        "1. **Корреляция Пирсона**:\n",
        "   - Измеряет степень линейной зависимости между двумя переменными.\n",
        "   - Значение корреляции Пирсона находится в диапазоне от -1 до 1. Значение близкое к 1 указывает на сильную прямую корреляцию, значение близкое к -1 указывает на сильную обратную корреляцию, а значение близкое к 0 указывает на отсутствие корреляции.\n",
        "   - Не позволяет делать выводы о причинно-следственной связи.\n",
        "\n",
        "2. **Линейная регрессия**:\n",
        "   - Целью является предсказание значения одной переменной на основе значений одной или нескольких других переменных.\n",
        "   - Позволяет оценить влияние каждого признака на зависимую переменную. Коэффициенты регрессии показывают, насколько среднее значение зависимой переменной изменяется при изменении одного из признаков на единицу, при условии, что все остальные признаки остаются постоянными.\n",
        "   - Может быть использована для оценки причинно-следственных связей, хотя для этого требуются дополнительные предпосылки.\n",
        "\n",
        "В этом семинаре мы рассмотрим, как можно использовать линейную регрессию для анализа влияния признаков на зависимую переменную."
      ],
      "metadata": {
        "noteable": {
          "cell_type": "markdown"
        }
      },
      "id": "64fe0f1d-fffa-4c1c-a5a0-52fcd138076a"
    },
    {
      "cell_type": "code",
      "source": [
        "import statsmodels.api as sm\n",
        "import numpy as np\n",
        "\n",
        "# Допустим, у вас есть DataFrame `house_data` со столбцами 'price', 'size' и 'bedrooms'\n",
        "# На данный момент мы просто создадим имитацию этого DataFrame для демонстрации\n",
        "np.random.seed(42)\n",
        "house_data = {\n",
        "    'size': np.random.randint(50, 200, 100),\n",
        "    'bedrooms': np.random.randint(1, 5, 100),\n",
        "    'price': np.random.randint(50000, 300000, 100)\n",
        "}\n",
        "\n",
        "X = house_data['size']\n",
        "y = np.log(house_data['price'])  # Мы берем логарифм цены для нормализации\n",
        "\n",
        "# Добавляем константный столбец для пересечения\n",
        "X = sm.add_constant(X)\n",
        "\n",
        "# Создаем модель OLS (Ordinary Least Squares) и подгоняем ее\n",
        "model = sm.OLS(y, X)\n",
        "fitted = model.fit()\n",
        "fitted.summary()"
      ],
      "outputs": [
        {
          "output_type": "execute_result",
          "execution_count": null,
          "data": {
            "text/html": "<table class=\"simpletable\">\n<caption>OLS Regression Results</caption>\n<tr>\n  <th>Dep. Variable:</th>            <td>y</td>        <th>  R-squared:         </th> <td>   0.021</td>\n</tr>\n<tr>\n  <th>Model:</th>                   <td>OLS</td>       <th>  Adj. R-squared:    </th> <td>   0.011</td>\n</tr>\n<tr>\n  <th>Method:</th>             <td>Least Squares</td>  <th>  F-statistic:       </th> <td>   2.104</td>\n</tr>\n<tr>\n  <th>Date:</th>             <td>Sat, 09 Sep 2023</td> <th>  Prob (F-statistic):</th>  <td> 0.150</td> \n</tr>\n<tr>\n  <th>Time:</th>                 <td>09:09:55</td>     <th>  Log-Likelihood:    </th> <td> -58.475</td>\n</tr>\n<tr>\n  <th>No. Observations:</th>      <td>   100</td>      <th>  AIC:               </th> <td>   121.0</td>\n</tr>\n<tr>\n  <th>Df Residuals:</th>          <td>    98</td>      <th>  BIC:               </th> <td>   126.2</td>\n</tr>\n<tr>\n  <th>Df Model:</th>              <td>     1</td>      <th>                     </th>     <td> </td>   \n</tr>\n<tr>\n  <th>Covariance Type:</th>      <td>nonrobust</td>    <th>                     </th>     <td> </td>   \n</tr>\n</table>\n<table class=\"simpletable\">\n<tr>\n    <td></td>       <th>coef</th>     <th>std err</th>      <th>t</th>      <th>P>|t|</th>  <th>[0.025</th>    <th>0.975]</th>  \n</tr>\n<tr>\n  <th>const</th> <td>   11.8123</td> <td>    0.133</td> <td>   88.839</td> <td> 0.000</td> <td>   11.548</td> <td>   12.076</td>\n</tr>\n<tr>\n  <th>x1</th>    <td>    0.0015</td> <td>    0.001</td> <td>    1.451</td> <td> 0.150</td> <td>   -0.001</td> <td>    0.004</td>\n</tr>\n</table>\n<table class=\"simpletable\">\n<tr>\n  <th>Omnibus:</th>       <td> 8.245</td> <th>  Durbin-Watson:     </th> <td>   2.172</td>\n</tr>\n<tr>\n  <th>Prob(Omnibus):</th> <td> 0.016</td> <th>  Jarque-Bera (JB):  </th> <td>   6.538</td>\n</tr>\n<tr>\n  <th>Skew:</th>          <td>-0.520</td> <th>  Prob(JB):          </th> <td>  0.0380</td>\n</tr>\n<tr>\n  <th>Kurtosis:</th>      <td> 2.301</td> <th>  Cond. No.          </th> <td>    385.</td>\n</tr>\n</table><br/><br/>Notes:<br/>[1] Standard Errors assume that the covariance matrix of the errors is correctly specified."
          },
          "metadata": {}
        }
      ],
      "execution_count": null,
      "metadata": {
        "noteable": {
          "cell_type": "code"
        },
        "ExecuteTime": {
          "start_time": "2023-09-09T09:09:55.469374+00:00",
          "end_time": "2023-09-09T09:09:56.043079+00:00"
        }
      },
      "id": "5cfd4042-f52c-4c1c-8374-15d1c2822470"
    },
    {
      "cell_type": "markdown",
      "source": [
        "## Интерпретация результатов\n",
        "\n",
        "На основе результатов линейной регрессии можно сделать следующие выводы:\n",
        "\n",
        "1. **R-squared**: Наша модель объясняет всего 2.1% вариации в логарифме цены на основе размера дома. Это довольно низкое значение, что может указывать на то, что размер дома сам по себе не является сильным предиктором цены в этом конкретном наборе данных.\n",
        "\n",
        "2. **Коэффициенты**: Уклон (коэффициент для `x1`) равен 0.0015, что означает, что при увеличении размера дома на одну единицу логарифм цены увеличивается на 0.0015. Однако стоит отметить, что p-значение для этого коэффициента равно 0.150, что больше обычного порога значимости в 0.05. Это означает, что мы не можем отвергнуть нулевую гипотезу о том, что размер дома не влияет на цену.\n",
        "\n",
        "3. **Практическое значение**: Несмотря на то, что размер дома может интуитивно казаться важным фактором, влияющим на цену, в этом конкретном наборе данных он не является статистически значимым предиктором. Это может быть связано с тем, что у нас имитированный набор данных, или с тем, что есть другие, более важные факторы, которые влияют на цену дома."
      ],
      "metadata": {
        "noteable": {
          "cell_type": "markdown"
        }
      },
      "id": "a54b08d5-cc4b-415c-8d25-7714c3b2b428"
    },
    {
      "cell_type": "markdown",
      "source": [
        "## Использование реальных данных\n",
        "\n",
        "Для демонстрации анализа влияния признаков с помощью линейной регрессии на реальных данных мы будем использовать набор данных о ценах на жилье в Бостоне. Этот набор данных включает в себя информацию о различных атрибутах домов в Бостоне и их медианных значениях цен. Давайте загрузим этот набор данных и проведем анализ."
      ],
      "metadata": {
        "noteable": {
          "cell_type": "markdown"
        }
      },
      "id": "21b9bfc2-58d8-4fdc-b9bd-3a157ee82954"
    },
    {
      "cell_type": "code",
      "source": [
        "from sklearn.datasets import load_boston\n",
        "import pandas as pd\n",
        "\n",
        "# Загрузка набора данных\n",
        "boston_data = load_boston()\n",
        "df_boston = pd.DataFrame(boston_data.data, columns=boston_data.feature_names)\n",
        "df_boston['MEDV'] = boston_data.target\n",
        "\n",
        "# Просмотр первых пяти строк набора данных\n",
        "df_boston.head()"
      ],
      "outputs": [
        {
          "output_type": "display_data",
          "data": {
            "application/vnd.dataresource+json": {
              "schema": {
                "fields": [
                  {
                    "name": "index",
                    "type": "integer"
                  },
                  {
                    "name": "CRIM",
                    "type": "number"
                  },
                  {
                    "name": "ZN",
                    "type": "number"
                  },
                  {
                    "name": "INDUS",
                    "type": "number"
                  },
                  {
                    "name": "CHAS",
                    "type": "number"
                  },
                  {
                    "name": "NOX",
                    "type": "number"
                  },
                  {
                    "name": "RM",
                    "type": "number"
                  },
                  {
                    "name": "AGE",
                    "type": "number"
                  },
                  {
                    "name": "DIS",
                    "type": "number"
                  },
                  {
                    "name": "RAD",
                    "type": "number"
                  },
                  {
                    "name": "TAX",
                    "type": "number"
                  },
                  {
                    "name": "PTRATIO",
                    "type": "number"
                  },
                  {
                    "name": "B",
                    "type": "number"
                  },
                  {
                    "name": "LSTAT",
                    "type": "number"
                  },
                  {
                    "name": "MEDV",
                    "type": "number"
                  }
                ],
                "primaryKey": [
                  "index"
                ],
                "pandas_version": "1.4.0"
              },
              "data": [
                {
                  "index": 0,
                  "CRIM": 0.00632,
                  "ZN": 18,
                  "INDUS": 2.31,
                  "CHAS": 0,
                  "NOX": 0.538,
                  "RM": 6.575,
                  "AGE": 65.2,
                  "DIS": 4.09,
                  "RAD": 1,
                  "TAX": 296,
                  "PTRATIO": 15.3,
                  "B": 396.9,
                  "LSTAT": 4.98,
                  "MEDV": 24
                },
                {
                  "index": 1,
                  "CRIM": 0.02731,
                  "ZN": 0,
                  "INDUS": 7.07,
                  "CHAS": 0,
                  "NOX": 0.469,
                  "RM": 6.421,
                  "AGE": 78.9,
                  "DIS": 4.9671,
                  "RAD": 2,
                  "TAX": 242,
                  "PTRATIO": 17.8,
                  "B": 396.9,
                  "LSTAT": 9.14,
                  "MEDV": 21.6
                },
                {
                  "index": 2,
                  "CRIM": 0.02729,
                  "ZN": 0,
                  "INDUS": 7.07,
                  "CHAS": 0,
                  "NOX": 0.469,
                  "RM": 7.185,
                  "AGE": 61.1,
                  "DIS": 4.9671,
                  "RAD": 2,
                  "TAX": 242,
                  "PTRATIO": 17.8,
                  "B": 392.83,
                  "LSTAT": 4.03,
                  "MEDV": 34.7
                },
                {
                  "index": 3,
                  "CRIM": 0.03237,
                  "ZN": 0,
                  "INDUS": 2.18,
                  "CHAS": 0,
                  "NOX": 0.458,
                  "RM": 6.998,
                  "AGE": 45.8,
                  "DIS": 6.0622,
                  "RAD": 3,
                  "TAX": 222,
                  "PTRATIO": 18.7,
                  "B": 394.63,
                  "LSTAT": 2.94,
                  "MEDV": 33.4
                },
                {
                  "index": 4,
                  "CRIM": 0.06905,
                  "ZN": 0,
                  "INDUS": 2.18,
                  "CHAS": 0,
                  "NOX": 0.458,
                  "RM": 7.147,
                  "AGE": 54.2,
                  "DIS": 6.0622,
                  "RAD": 3,
                  "TAX": 222,
                  "PTRATIO": 18.7,
                  "B": 396.9,
                  "LSTAT": 5.33,
                  "MEDV": 36.2
                }
              ],
              "datalink": {
                "display_id": "ea09458f-0873-47c3-991e-4a8236b0c3c1"
              }
            }
          },
          "metadata": {
            "application/vnd.dataresource+json": {
              "datalink": {
                "dataframe_info": {
                  "default_index_used": true,
                  "orig_size_bytes": 600,
                  "orig_num_rows": 5,
                  "orig_num_cols": 14,
                  "truncated_string_columns": [],
                  "truncated_size_bytes": 600,
                  "truncated_num_rows": 5,
                  "truncated_num_cols": 14
                },
                "dx_settings": {
                  "NUM_PAST_SAMPLES_TRACKED": 3,
                  "ENABLE_DATALINK": true,
                  "DISPLAY_MODE": "simple",
                  "GENERATE_DEX_METADATA": false,
                  "STRINGIFY_INDEX_VALUES": false,
                  "ALLOW_NOTEABLE_ATTRS": true,
                  "DISPLAY_MAX_COLUMNS": 100,
                  "HTML_TABLE_SCHEMA": false,
                  "SAMPLING_FACTOR": 0.1,
                  "LOG_LEVEL": 30,
                  "ENABLE_ASSIGNMENT": true,
                  "FLATTEN_INDEX_VALUES": false,
                  "DEV_MODE": false,
                  "COLUMN_SAMPLING_METHOD": "outer",
                  "FLATTEN_COLUMN_VALUES": true,
                  "DISPLAY_MAX_ROWS": 50000,
                  "ROW_SAMPLING_METHOD": "random",
                  "RANDOM_STATE": 12648430,
                  "DB_LOCATION": ":memory:",
                  "STRINGIFY_COLUMN_VALUES": true,
                  "SAMPLING_METHOD": "random",
                  "MAX_STRING_LENGTH": 250,
                  "MAX_RENDER_SIZE_BYTES": 104857600,
                  "RESET_INDEX_VALUES": false
                },
                "display_id": "ea09458f-0873-47c3-991e-4a8236b0c3c1",
                "applied_filters": [],
                "sample_history": [],
                "sampling_time": "2023-09-09T09:13:16.938277",
                "variable_name": "unk_dataframe_14ea143f56b6411792e4d5aa453ccc3d",
                "user_variable_name": null
              },
              "display_id": "ea09458f-0873-47c3-991e-4a8236b0c3c1"
            }
          }
        }
      ],
      "execution_count": null,
      "metadata": {
        "noteable": {
          "cell_type": "code"
        },
        "ExecuteTime": {
          "start_time": "2023-09-09T09:13:16.866852+00:00",
          "end_time": "2023-09-09T09:13:17.101986+00:00"
        },
        "datalink": {
          "ea09458f-0873-47c3-991e-4a8236b0c3c1": {
            "dataframe_info": {
              "default_index_used": true,
              "orig_size_bytes": 600,
              "orig_num_rows": 5,
              "orig_num_cols": 14,
              "truncated_string_columns": [],
              "truncated_size_bytes": 600,
              "truncated_num_rows": 5,
              "truncated_num_cols": 14
            },
            "dx_settings": {
              "LOG_LEVEL": 30,
              "DEV_MODE": false,
              "DISPLAY_MAX_ROWS": 50000,
              "DISPLAY_MAX_COLUMNS": 100,
              "HTML_TABLE_SCHEMA": false,
              "MAX_RENDER_SIZE_BYTES": 104857600,
              "MAX_STRING_LENGTH": 250,
              "SAMPLING_FACTOR": 0.1,
              "DISPLAY_MODE": "simple",
              "SAMPLING_METHOD": "random",
              "COLUMN_SAMPLING_METHOD": "outer",
              "ROW_SAMPLING_METHOD": "random",
              "RANDOM_STATE": 12648430,
              "RESET_INDEX_VALUES": false,
              "FLATTEN_INDEX_VALUES": false,
              "FLATTEN_COLUMN_VALUES": true,
              "STRINGIFY_INDEX_VALUES": false,
              "STRINGIFY_COLUMN_VALUES": true,
              "ENABLE_DATALINK": true,
              "ENABLE_ASSIGNMENT": true,
              "NUM_PAST_SAMPLES_TRACKED": 3,
              "DB_LOCATION": ":memory:",
              "GENERATE_DEX_METADATA": false,
              "ALLOW_NOTEABLE_ATTRS": true
            },
            "display_id": "ea09458f-0873-47c3-991e-4a8236b0c3c1",
            "applied_filters": [],
            "sample_history": [],
            "sampling_time": "2023-09-09T09:13:16.938277",
            "variable_name": "unk_dataframe_14ea143f56b6411792e4d5aa453ccc3d",
            "user_variable_name": null
          }
        }
      },
      "id": "fecf87c9-31b4-417c-a739-fb84f8eeabc0"
    },
    {
      "cell_type": "code",
      "source": [
        "# Выбор признаков для анализа\n",
        "X_real = df_boston[['RM', 'LSTAT', 'PTRATIO']]\n",
        "X_real = sm.add_constant(X_real)  # Добавляем константный столбец для пересечения\n",
        "y_real = df_boston['MEDV']\n",
        "\n",
        "# Создаем модель OLS (Ordinary Least Squares) и подгоняем ее\n",
        "model_real = sm.OLS(y_real, X_real)\n",
        "fitted_real = model_real.fit()\n",
        "fitted_real.summary()"
      ],
      "outputs": [
        {
          "output_type": "execute_result",
          "execution_count": null,
          "data": {
            "text/html": "<table class=\"simpletable\">\n<caption>OLS Regression Results</caption>\n<tr>\n  <th>Dep. Variable:</th>          <td>MEDV</td>       <th>  R-squared:         </th> <td>   0.679</td> \n</tr>\n<tr>\n  <th>Model:</th>                   <td>OLS</td>       <th>  Adj. R-squared:    </th> <td>   0.677</td> \n</tr>\n<tr>\n  <th>Method:</th>             <td>Least Squares</td>  <th>  F-statistic:       </th> <td>   353.3</td> \n</tr>\n<tr>\n  <th>Date:</th>             <td>Sat, 09 Sep 2023</td> <th>  Prob (F-statistic):</th> <td>2.69e-123</td>\n</tr>\n<tr>\n  <th>Time:</th>                 <td>09:14:28</td>     <th>  Log-Likelihood:    </th> <td> -1553.0</td> \n</tr>\n<tr>\n  <th>No. Observations:</th>      <td>   506</td>      <th>  AIC:               </th> <td>   3114.</td> \n</tr>\n<tr>\n  <th>Df Residuals:</th>          <td>   502</td>      <th>  BIC:               </th> <td>   3131.</td> \n</tr>\n<tr>\n  <th>Df Model:</th>              <td>     3</td>      <th>                     </th>     <td> </td>    \n</tr>\n<tr>\n  <th>Covariance Type:</th>      <td>nonrobust</td>    <th>                     </th>     <td> </td>    \n</tr>\n</table>\n<table class=\"simpletable\">\n<tr>\n     <td></td>        <th>coef</th>     <th>std err</th>      <th>t</th>      <th>P>|t|</th>  <th>[0.025</th>    <th>0.975]</th>  \n</tr>\n<tr>\n  <th>const</th>   <td>   18.5671</td> <td>    3.913</td> <td>    4.745</td> <td> 0.000</td> <td>   10.879</td> <td>   26.255</td>\n</tr>\n<tr>\n  <th>RM</th>      <td>    4.5154</td> <td>    0.426</td> <td>   10.603</td> <td> 0.000</td> <td>    3.679</td> <td>    5.352</td>\n</tr>\n<tr>\n  <th>LSTAT</th>   <td>   -0.5718</td> <td>    0.042</td> <td>  -13.540</td> <td> 0.000</td> <td>   -0.655</td> <td>   -0.489</td>\n</tr>\n<tr>\n  <th>PTRATIO</th> <td>   -0.9307</td> <td>    0.118</td> <td>   -7.911</td> <td> 0.000</td> <td>   -1.162</td> <td>   -0.700</td>\n</tr>\n</table>\n<table class=\"simpletable\">\n<tr>\n  <th>Omnibus:</th>       <td>202.072</td> <th>  Durbin-Watson:     </th> <td>   0.901</td> \n</tr>\n<tr>\n  <th>Prob(Omnibus):</th> <td> 0.000</td>  <th>  Jarque-Bera (JB):  </th> <td>1022.153</td> \n</tr>\n<tr>\n  <th>Skew:</th>          <td> 1.700</td>  <th>  Prob(JB):          </th> <td>1.10e-222</td>\n</tr>\n<tr>\n  <th>Kurtosis:</th>      <td> 9.076</td>  <th>  Cond. No.          </th> <td>    402.</td> \n</tr>\n</table><br/><br/>Notes:<br/>[1] Standard Errors assume that the covariance matrix of the errors is correctly specified."
          },
          "metadata": {}
        }
      ],
      "execution_count": null,
      "metadata": {
        "noteable": {
          "cell_type": "code"
        },
        "ExecuteTime": {
          "start_time": "2023-09-09T09:14:28.134170+00:00",
          "end_time": "2023-09-09T09:14:28.307802+00:00"
        }
      },
      "id": "79a95df8-a134-496c-ba67-bba27e972db7"
    },
    {
      "cell_type": "markdown",
      "source": [
        "## Интерпретация результатов на реальных данных\n",
        "\n",
        "На основе результатов линейной регрессии для реального набора данных о ценах на жилье в Бостоне можно сделать следующие выводы:\n",
        "\n",
        "1. **R-squared**: Наша модель объясняет 67.9% вариации в медианной стоимости домов на основе комбинации признаков 'RM', 'LSTAT' и 'PTRATIO'. Это гораздо выше, чем в имитированном примере, что указывает на то, что эти признаки действительно имеют сильное влияние на цену дома в этом наборе данных.\n",
        "\n",
        "2. **Коэффициенты**: Каждый из коэффициентов имеет практическое значение. Например, увеличение среднего количества комнат на одну единицу приводит к увеличению медианной стоимости домов на 4.5154 тысячи долларов. Однако увеличение процента населения с более низким статусом или соотношения учеников и учителей приводит к уменьшению стоимости дома.\n",
        "\n",
        "3. **Практическое значение**: Эти результаты подтверждают интуитивное представление о том, что количество комнат в доме положительно влияет на его стоимость, в то время как более высокий процент населения с более низким статусом или более высокое соотношение учеников и учителей может уменьшить стоимость дома."
      ],
      "metadata": {
        "noteable": {
          "cell_type": "markdown"
        }
      },
      "id": "8da93abf-e9c2-4a32-aab4-df40fec56bc0"
    }
  ],
  "metadata": {
    "noteable-chatgpt": {
      "create_notebook": {
        "openai_conversation_id": "27bc48fc-8a8a-51d2-819f-93165af6bad8",
        "openai_ephemeral_user_id": "42e11fff-cd25-5aae-b131-dab984ff4579"
      }
    },
    "kernel_info": {
      "name": "python3"
    },
    "kernelspec": {
      "display_name": "Python 3.9",
      "language": "python",
      "name": "python3"
    },
    "selected_hardware_size": "small",
    "noteable": {
      "last_delta_id": "a625bcff-bfb9-4e1e-9703-265fde517171"
    },
    "nteract": {
      "version": "noteable@2.9.0"
    }
  },
  "nbformat": 4,
  "nbformat_minor": 5
}